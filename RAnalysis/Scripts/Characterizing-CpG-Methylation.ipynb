{
 "cells": [
  {
   "cell_type": "markdown",
   "metadata": {},
   "source": [
    "# Characterizing CpG Methylation\n",
    "\n",
    "I'll describe general methylation trends in the geoduck genome using a concatenation of 10x data from all samples. I'll also generate methylation islands for the geoduck genome based on a perl script from Jeong et al. (2018).\n",
    "\n",
    "1. Obtain concatenated coverage file\n",
    "2. Characterize methylation levels for each CpG dinucleotide\n",
    "3. Determine genomic locations for CpGs\n",
    "4. Generate methylation islands"
   ]
  },
  {
   "cell_type": "markdown",
   "metadata": {},
   "source": [
    "## 1. Obtain concatenated coverage file"
   ]
  },
  {
   "cell_type": "code",
   "execution_count": 20,
   "metadata": {
    "scrolled": true
   },
   "outputs": [
    {
     "name": "stdout",
     "output_type": "stream",
     "text": [
      "--2020-03-09 10:31:27--  https://gannet.fish.washington.edu/seashell/bu-mox/scrubbed/0102/Pg_val_1_bismark_bt2_pe._10x.bedgraph\n",
      "Resolving gannet.fish.washington.edu... 128.95.149.52\n",
      "Connecting to gannet.fish.washington.edu|128.95.149.52|:443... connected.\n",
      "HTTP request sent, awaiting response... 200 OK\n",
      "Length: 39782030 (38M)\n",
      "Saving to: ‘Pg_val_1_bismark_bt2_pe._10x.bedgraph’\n",
      "\n",
      "Pg_val_1_bismark_bt 100%[===================>]  37.94M  13.2MB/s    in 2.9s    \n",
      "\n",
      "2020-03-09 10:31:30 (13.2 MB/s) - ‘Pg_val_1_bismark_bt2_pe._10x.bedgraph’ saved [39782030/39782030]\n",
      "\n",
      "--2020-03-09 10:31:30--  http://../Data/\n",
      "Resolving ..... failed: nodename nor servname provided, or not known.\n",
      "wget: unable to resolve host address ‘..’\n",
      "FINISHED --2020-03-09 10:31:30--\n",
      "Total wall clock time: 3.0s\n",
      "Downloaded: 1 files, 38M in 2.9s (13.2 MB/s)\n"
     ]
    }
   ],
   "source": [
    "#Download from gannet\n",
    "!wget https://gannet.fish.washington.edu/seashell/bu-mox/scrubbed/0102/Pg_val_1_bismark_bt2_pe._10x.bedgraph"
   ]
  },
  {
   "cell_type": "code",
   "execution_count": 21,
   "metadata": {},
   "outputs": [],
   "source": [
    "#Move to Data folder\n",
    "!mv *bedgraph ../Data/"
   ]
  },
  {
   "cell_type": "code",
   "execution_count": 23,
   "metadata": {
    "scrolled": true
   },
   "outputs": [
    {
     "name": "stdout",
     "output_type": "stream",
     "text": [
      "../Data/Pg_val_1_bismark_bt2_pe._10x.bedgraph\r\n"
     ]
    }
   ],
   "source": [
    "#Confirm file was moved\n",
    "!ls ../Data/*bedgraph"
   ]
  },
  {
   "cell_type": "code",
   "execution_count": 147,
   "metadata": {},
   "outputs": [
    {
     "name": "stdout",
     "output_type": "stream",
     "text": [
      "Scaffold_01\t53\t55\t3.125000\r\n",
      "Scaffold_01\t71\t73\t2.777778\r\n",
      "Scaffold_01\t95\t97\t2.040816\r\n",
      "Scaffold_01\t118\t120\t0.000000\r\n",
      "Scaffold_01\t192\t194\t0.000000\r\n",
      "Scaffold_01\t201\t203\t0.000000\r\n",
      "Scaffold_01\t208\t210\t0.000000\r\n",
      "Scaffold_01\t212\t214\t0.000000\r\n",
      "Scaffold_01\t220\t222\t0.000000\r\n",
      "Scaffold_01\t237\t239\t1.315789\r\n"
     ]
    }
   ],
   "source": [
    "#Columns: chr, start, end, %meth\n",
    "!head ../Data/Pg_val_1_bismark_bt2_pe._10x.bedgraph"
   ]
  },
  {
   "cell_type": "code",
   "execution_count": 148,
   "metadata": {},
   "outputs": [
    {
     "name": "stdout",
     "output_type": "stream",
     "text": [
      " 1016980 ../Data/Pg_val_1_bismark_bt2_pe._10x.bedgraph\r\n"
     ]
    }
   ],
   "source": [
    "!wc -l ../Data/Pg_val_1_bismark_bt2_pe._10x.bedgraph"
   ]
  },
  {
   "cell_type": "markdown",
   "metadata": {},
   "source": [
    "## 2. Characterize methylation level for each CpG dinucleotide\n",
    "\n",
    "- methylated: > 50% methylated\n",
    "- sparsely methylated: 10-50% methylated\n",
    "- unmethylated: < 10% methylated"
   ]
  },
  {
   "cell_type": "markdown",
   "metadata": {},
   "source": [
    "### 2a. Methylated CpGs"
   ]
  },
  {
   "cell_type": "code",
   "execution_count": 133,
   "metadata": {},
   "outputs": [],
   "source": [
    "#If percent methylation is greater or equal to 50, then save the loci information\n",
    "!awk '{if ($4 >= 50) { print $1, $2, $3, $4 }}' ../Data/Pg_val_1_bismark_bt2_pe._10x.bedgraph \\\n",
    "> ../Output/Pg_val_1_bismark_bt2_pe._10x-Methylated.bedgraph"
   ]
  },
  {
   "cell_type": "code",
   "execution_count": 135,
   "metadata": {},
   "outputs": [],
   "source": [
    "methylatedCpGs = \"../Output/Pg_val_1_bismark_bt2_pe._10x-Methylated.bedgraph\""
   ]
  },
  {
   "cell_type": "code",
   "execution_count": 146,
   "metadata": {
    "scrolled": true
   },
   "outputs": [
    {
     "name": "stdout",
     "output_type": "stream",
     "text": [
      "Scaffold_01 11797 11799 50.000000\n",
      "Scaffold_01 11838 11840 50.000000\n",
      "Scaffold_01 11843 11845 50.000000\n",
      "Scaffold_01 11846 11848 50.000000\n",
      "Scaffold_01 11851 11853 55.555556\n",
      "Scaffold_01 12029 12031 56.250000\n",
      "Scaffold_01 51414 51416 56.834532\n",
      "Scaffold_01 51426 51428 58.333333\n",
      "Scaffold_01 51470 51472 55.072464\n",
      "Scaffold_01 51563 51565 77.083333\n",
      "  310808 ../Output/Pg_val_1_bismark_bt2_pe._10x-Methylated.bedgraph\n"
     ]
    }
   ],
   "source": [
    "!head ../Output/Pg_val_1_bismark_bt2_pe._10x-Methylated.bedgraph\n",
    "!wc -l ../Output/Pg_val_1_bismark_bt2_pe._10x-Methylated.bedgraph"
   ]
  },
  {
   "cell_type": "markdown",
   "metadata": {},
   "source": [
    "### 2b. Sparsely methylated CpGs"
   ]
  },
  {
   "cell_type": "code",
   "execution_count": 30,
   "metadata": {},
   "outputs": [],
   "source": [
    "%%bash\n",
    "awk '{if ($4 < 50) { print $1, $2, $3, $4}}' ../Data/Pg_val_1_bismark_bt2_pe._10x.bedgraph \\\n",
    "| awk '{if ($4 > 10) { print $1, $2, $3, $4 }}' \\\n",
    "> ../Output/Pg_val_1_bismark_bt2_pe._10x-Sparsely-Methylated.bedgraph"
   ]
  },
  {
   "cell_type": "code",
   "execution_count": 145,
   "metadata": {},
   "outputs": [
    {
     "name": "stdout",
     "output_type": "stream",
     "text": [
      "Scaffold_01 617 619 15.384615\n",
      "Scaffold_01 2962 2964 12.658228\n",
      "Scaffold_01 7518 7520 12.000000\n",
      "Scaffold_01 8343 8345 17.073171\n",
      "Scaffold_01 8347 8349 15.384615\n",
      "Scaffold_01 8352 8354 22.448980\n",
      "Scaffold_01 8358 8360 31.506849\n",
      "Scaffold_01 8366 8368 34.426230\n",
      "Scaffold_01 8381 8383 26.363636\n",
      "Scaffold_01 8385 8387 23.931624\n",
      "   92368 ../Output/Pg_val_1_bismark_bt2_pe._10x-Sparsely-Methylated.bedgraph\n"
     ]
    }
   ],
   "source": [
    "!head ../Output/Pg_val_1_bismark_bt2_pe._10x-Sparsely-Methylated.bedgraph\n",
    "!wc -l ../Output/Pg_val_1_bismark_bt2_pe._10x-Sparsely-Methylated.bedgraph"
   ]
  },
  {
   "cell_type": "markdown",
   "metadata": {},
   "source": [
    "### 2c. Unmethylated CpGs"
   ]
  },
  {
   "cell_type": "code",
   "execution_count": 34,
   "metadata": {},
   "outputs": [],
   "source": [
    "!awk '{if ($4 <= 10) { print $1, $2, $3, $4 }}' ../Data/Pg_val_1_bismark_bt2_pe._10x.bedgraph \\\n",
    "> ../Output/Pg_val_1_bismark_bt2_pe._10x-Unmethylated.bedgraph"
   ]
  },
  {
   "cell_type": "code",
   "execution_count": 144,
   "metadata": {},
   "outputs": [
    {
     "name": "stdout",
     "output_type": "stream",
     "text": [
      "Scaffold_01 53 55 3.125000\n",
      "Scaffold_01 71 73 2.777778\n",
      "Scaffold_01 95 97 2.040816\n",
      "Scaffold_01 118 120 0.000000\n",
      "Scaffold_01 192 194 0.000000\n",
      "Scaffold_01 201 203 0.000000\n",
      "Scaffold_01 208 210 0.000000\n",
      "Scaffold_01 212 214 0.000000\n",
      "Scaffold_01 220 222 0.000000\n",
      "Scaffold_01 237 239 1.315789\n",
      "  613804 ../Output/Pg_val_1_bismark_bt2_pe._10x-Unmethylated.bedgraph\n"
     ]
    }
   ],
   "source": [
    "!head ../Output/Pg_val_1_bismark_bt2_pe._10x-Unmethylated.bedgraph\n",
    "!wc -l ../Output/Pg_val_1_bismark_bt2_pe._10x-Unmethylated.bedgraph"
   ]
  },
  {
   "cell_type": "markdown",
   "metadata": {},
   "source": [
    "## 3. Determine genomic locations for CpGs"
   ]
  },
  {
   "cell_type": "markdown",
   "metadata": {},
   "source": [
    "### 3a. Create BEDfiles for `bedtools` and IGV"
   ]
  },
  {
   "cell_type": "code",
   "execution_count": 149,
   "metadata": {},
   "outputs": [
    {
     "name": "stdout",
     "output_type": "stream",
     "text": [
      "../Output/Pg_val_1_bismark_bt2_pe._10x-Methylated.bedgraph\r\n",
      "../Output/Pg_val_1_bismark_bt2_pe._10x-Sparsely-Methylated.bedgraph\r\n",
      "../Output/Pg_val_1_bismark_bt2_pe._10x-Unmethylated.bedgraph\r\n"
     ]
    }
   ],
   "source": [
    "!find ../Output/*bedgraph"
   ]
  },
  {
   "cell_type": "code",
   "execution_count": 150,
   "metadata": {},
   "outputs": [],
   "source": [
    "%%bash\n",
    "\n",
    "for f in ../Output/*bedgraph\n",
    "do\n",
    "    awk '{print $1\"\\t\"$2\"\\t\"$3}' ${f} > ${f}.bed\n",
    "done"
   ]
  },
  {
   "cell_type": "code",
   "execution_count": 152,
   "metadata": {},
   "outputs": [],
   "source": [
    "!awk '{print $1\"\\t\"$2\"\\t\"$3}' ../Data/Pg_val_1_bismark_bt2_pe._10x.bedgraph \\\n",
    "> ../Data/Pg_val_1_bismark_bt2_pe._10x.bedgraph.bed"
   ]
  },
  {
   "cell_type": "markdown",
   "metadata": {},
   "source": [
    "### 3b. Set variable paths"
   ]
  },
  {
   "cell_type": "code",
   "execution_count": 124,
   "metadata": {},
   "outputs": [],
   "source": [
    "exons = \"../Data/Genome/Panopea-generosa-v1.0.a4.exon.gff3\""
   ]
  },
  {
   "cell_type": "code",
   "execution_count": 125,
   "metadata": {
    "scrolled": true
   },
   "outputs": [
    {
     "name": "stdout",
     "output_type": "stream",
     "text": [
      "##gff-version 3\r\n",
      "##Generated using GenSAS, Tuesday 26th of November 2019 07:12:25 PM\r\n",
      "##Project Name : Pgenerosa_v074\r\n",
      "Scaffold_01\tGenSAS_5d9637f372b5d-publish\texon\t2\t125\t.\t+\t.\tID=PGEN_.00g000010.m01.exon01;Name=PGEN_.00g000010.m01.exon01;Parent=PGEN_.00g000010.m01;original_ID=21510-PGEN_.00g234140.m01.exon1;Alias=21510-PGEN_.00g234140.m01.exon1\r\n",
      "Scaffold_01\tGenSAS_5d9637f372b5d-publish\texon\t1995\t2095\t.\t+\t.\tID=PGEN_.00g000010.m01.exon02;Name=PGEN_.00g000010.m01.exon02;Parent=PGEN_.00g000010.m01;original_ID=21510-PGEN_.00g234140.m01.exon2;Alias=21510-PGEN_.00g234140.m01.exon2\r\n",
      "Scaffold_01\tGenSAS_5d9637f372b5d-publish\texon\t3325\t3495\t.\t+\t.\tID=PGEN_.00g000010.m01.exon03;Name=PGEN_.00g000010.m01.exon03;Parent=PGEN_.00g000010.m01;original_ID=21510-PGEN_.00g234140.m01.exon3;Alias=21510-PGEN_.00g234140.m01.exon3\r\n",
      "Scaffold_01\tGenSAS_5d9637f372b5d-publish\texon\t4651\t4719\t.\t+\t.\tID=PGEN_.00g000010.m01.exon04;Name=PGEN_.00g000010.m01.exon04;Parent=PGEN_.00g000010.m01;original_ID=21510-PGEN_.00g234140.m01.exon4;Alias=21510-PGEN_.00g234140.m01.exon4\r\n",
      "Scaffold_01\tGenSAS_5d9637f372b5d-publish\texon\t19808\t19943\t.\t-\t.\tID=PGEN_.00g000020.m01.exon01;Name=PGEN_.00g000020.m01.exon01;Parent=PGEN_.00g000020.m01;original_ID=21510-PGEN_.00g234150.m01.exon10;Alias=21510-PGEN_.00g234150.m01.exon10\r\n",
      "Scaffold_01\tGenSAS_5d9637f372b5d-publish\texon\t21133\t21362\t.\t-\t.\tID=PGEN_.00g000020.m01.exon02;Name=PGEN_.00g000020.m01.exon02;Parent=PGEN_.00g000020.m01;original_ID=21510-PGEN_.00g234150.m01.exon9;Alias=21510-PGEN_.00g234150.m01.exon9\r\n",
      "Scaffold_01\tGenSAS_5d9637f372b5d-publish\texon\t22487\t22613\t.\t-\t.\tID=PGEN_.00g000020.m01.exon03;Name=PGEN_.00g000020.m01.exon03;Parent=PGEN_.00g000020.m01;original_ID=21510-PGEN_.00g234150.m01.exon8;Alias=21510-PGEN_.00g234150.m01.exon8\r\n"
     ]
    }
   ],
   "source": [
    "!head {exons}"
   ]
  },
  {
   "cell_type": "code",
   "execution_count": 126,
   "metadata": {},
   "outputs": [
    {
     "name": "stdout",
     "output_type": "stream",
     "text": [
      "  236963 ../Data/Genome/Panopea-generosa-v1.0.a4.exon.gff3\r\n"
     ]
    }
   ],
   "source": [
    "!wc -l {exons}"
   ]
  },
  {
   "cell_type": "code",
   "execution_count": 120,
   "metadata": {},
   "outputs": [],
   "source": [
    "genes = \"../Data/Genome/Panopea-generosa-v1.0.a4.gene.gff3\""
   ]
  },
  {
   "cell_type": "code",
   "execution_count": 122,
   "metadata": {
    "scrolled": true
   },
   "outputs": [
    {
     "name": "stdout",
     "output_type": "stream",
     "text": [
      "##gff-version 3\n",
      "##Generated using GenSAS, Tuesday 26th of November 2019 07:12:25 PM\n",
      "##Project Name : Pgenerosa_v074\n",
      "Scaffold_01\tGenSAS_5d9637f372b5d-publish\tgene\t2\t4719\t.\t+\t.\tID=PGEN_.00g000010;Name=PGEN_.00g000010;original_ID=21510-PGEN_.00g234140;Alias=21510-PGEN_.00g234140;original_name=21510-PGEN_.00g234140;Notes=sp|Q86IC9|CAMT1_DICDI [BLAST protein vs protein (blastp) 2.7.1],PF01596.12 [Pfam 1.6]\n",
      "Scaffold_01\tGenSAS_5d9637f372b5d-publish\tgene\t19808\t36739\t.\t-\t.\tID=PGEN_.00g000020;Name=PGEN_.00g000020;original_ID=21510-PGEN_.00g234150;Alias=21510-PGEN_.00g234150;original_name=21510-PGEN_.00g234150;Notes=sp|P04177|TY3H_RAT [BLAST protein vs protein (blastp) 2.7.1],sp|P04177|TY3H_RAT [DIAMOND Functional 0.9.22],IPR036951 [InterProScan 5.29-68.0],PF00351.16 [Pfam 1.6]\n",
      "Scaffold_01\tGenSAS_5d9637f372b5d-publish\tgene\t49248\t52578\t.\t-\t.\tID=PGEN_.00g000030;Name=PGEN_.00g000030;original_ID=21510-PGEN_.00g234160;Alias=21510-PGEN_.00g234160;original_name=21510-PGEN_.00g234160;Notes=PF08054.6 [Pfam 1.6]\n",
      "Scaffold_01\tGenSAS_5d9637f372b5d-publish\tgene\t55792\t67546\t.\t+\t.\tID=PGEN_.00g000040;Name=PGEN_.00g000040;original_ID=21510-PGEN_.00g234170;Alias=21510-PGEN_.00g234170;original_name=21510-PGEN_.00g234170\n",
      "Scaffold_01\tGenSAS_5d9637f372b5d-publish\tgene\t67586\t69113\t.\t-\t.\tID=PGEN_.00g000050;Name=PGEN_.00g000050;original_ID=21510-PGEN_.00g234180;Alias=21510-PGEN_.00g234180;original_name=21510-PGEN_.00g234180;Notes=sp|Q8L840|RQL4A_ARATH [BLAST protein vs protein (blastp) 2.7.1],sp|Q8L840|RQL4A_ARATH [DIAMOND Functional 0.9.22],PF00270.24 [Pfam 1.6]\n",
      "Scaffold_01\tGenSAS_5d9637f372b5d-publish\tgene\t70713\t81099\t.\t+\t.\tID=PGEN_.00g000060;Name=PGEN_.00g000060;original_ID=21510-PGEN_.00g234190;Alias=21510-PGEN_.00g234190;original_name=21510-PGEN_.00g234190;Notes=sp|Q61043|NIN_MOUSE [DIAMOND Functional 0.9.22],PF04443.7 [Pfam 1.6]\n",
      "Scaffold_01\tGenSAS_5d9637f372b5d-publish\tgene\t183686\t186073\t.\t+\t.\tID=PGEN_.00g000070;Name=PGEN_.00g000070;original_ID=21510-PGEN_.00g234200;Alias=21510-PGEN_.00g234200;original_name=21510-PGEN_.00g234200;Notes=PF15364.1 [Pfam 1.6]\n",
      "   34950  511092 9888462 ../Data/Genome/Panopea-generosa-v1.0.a4.gene.gff3\n"
     ]
    }
   ],
   "source": [
    "!head {genes}"
   ]
  },
  {
   "cell_type": "code",
   "execution_count": 123,
   "metadata": {
    "scrolled": false
   },
   "outputs": [
    {
     "name": "stdout",
     "output_type": "stream",
     "text": [
      "   34950 ../Data/Genome/Panopea-generosa-v1.0.a4.gene.gff3\r\n"
     ]
    }
   ],
   "source": [
    "!wc -l {genes}"
   ]
  },
  {
   "cell_type": "code",
   "execution_count": 127,
   "metadata": {},
   "outputs": [],
   "source": [
    "bedtoolsDirectory = \"/usr/local/bin/\""
   ]
  },
  {
   "cell_type": "code",
   "execution_count": 128,
   "metadata": {},
   "outputs": [
    {
     "name": "stdout",
     "output_type": "stream",
     "text": [
      "\r\n",
      "Tool:    bedtools intersect (aka intersectBed)\r\n",
      "Version: v2.29.2\r\n",
      "Summary: Report overlaps between two feature files.\r\n",
      "\r\n",
      "Usage:   bedtools intersect [OPTIONS] -a <bed/gff/vcf/bam> -b <bed/gff/vcf/bam>\r\n",
      "\r\n",
      "\tNote: -b may be followed with multiple databases and/or \r\n",
      "\twildcard (*) character(s). \r\n",
      "Options: \r\n",
      "\t-wa\tWrite the original entry in A for each overlap.\r\n",
      "\r\n",
      "\t-wb\tWrite the original entry in B for each overlap.\r\n",
      "\t\t- Useful for knowing _what_ A overlaps. Restricted by -f and -r.\r\n",
      "\r\n",
      "\t-loj\tPerform a \"left outer join\". That is, for each feature in A\r\n",
      "\t\treport each overlap with B.  If no overlaps are found, \r\n",
      "\t\treport a NULL feature for B.\r\n",
      "\r\n",
      "\t-wo\tWrite the original A and B entries plus the number of base\r\n",
      "\t\tpairs of overlap between the two features.\r\n",
      "\t\t- Overlaps restricted by -f and -r.\r\n",
      "\t\t  Only A features with overlap are reported.\r\n",
      "\r\n",
      "\t-wao\tWrite the original A and B entries plus the number of base\r\n",
      "\t\tpairs of overlap between the two features.\r\n",
      "\t\t- Overlapping features restricted by -f and -r.\r\n",
      "\t\t  However, A features w/o overlap are also reported\r\n",
      "\t\t  with a NULL B feature and overlap = 0.\r\n",
      "\r\n",
      "\t-u\tWrite the original A entry _once_ if _any_ overlaps found in B.\r\n",
      "\t\t- In other words, just report the fact >=1 hit was found.\r\n",
      "\t\t- Overlaps restricted by -f and -r.\r\n",
      "\r\n",
      "\t-c\tFor each entry in A, report the number of overlaps with B.\r\n",
      "\t\t- Reports 0 for A entries that have no overlap with B.\r\n",
      "\t\t- Overlaps restricted by -f, -F, -r, and -s.\r\n",
      "\r\n",
      "\t-C\tFor each entry in A, separately report the number of\r\n",
      "\t\t- overlaps with each B file on a distinct line.\r\n",
      "\t\t- Reports 0 for A entries that have no overlap with B.\r\n",
      "\t\t- Overlaps restricted by -f, -F, -r, and -s.\r\n",
      "\r\n",
      "\t-v\tOnly report those entries in A that have _no overlaps_ with B.\r\n",
      "\t\t- Similar to \"grep -v\" (an homage).\r\n",
      "\r\n",
      "\t-ubam\tWrite uncompressed BAM output. Default writes compressed BAM.\r\n",
      "\r\n",
      "\t-s\tRequire same strandedness.  That is, only report hits in B\r\n",
      "\t\tthat overlap A on the _same_ strand.\r\n",
      "\t\t- By default, overlaps are reported without respect to strand.\r\n",
      "\r\n",
      "\t-S\tRequire different strandedness.  That is, only report hits in B\r\n",
      "\t\tthat overlap A on the _opposite_ strand.\r\n",
      "\t\t- By default, overlaps are reported without respect to strand.\r\n",
      "\r\n",
      "\t-f\tMinimum overlap required as a fraction of A.\r\n",
      "\t\t- Default is 1E-9 (i.e., 1bp).\r\n",
      "\t\t- FLOAT (e.g. 0.50)\r\n",
      "\r\n",
      "\t-F\tMinimum overlap required as a fraction of B.\r\n",
      "\t\t- Default is 1E-9 (i.e., 1bp).\r\n",
      "\t\t- FLOAT (e.g. 0.50)\r\n",
      "\r\n",
      "\t-r\tRequire that the fraction overlap be reciprocal for A AND B.\r\n",
      "\t\t- In other words, if -f is 0.90 and -r is used, this requires\r\n",
      "\t\t  that B overlap 90% of A and A _also_ overlaps 90% of B.\r\n",
      "\r\n",
      "\t-e\tRequire that the minimum fraction be satisfied for A OR B.\r\n",
      "\t\t- In other words, if -e is used with -f 0.90 and -F 0.10 this requires\r\n",
      "\t\t  that either 90% of A is covered OR 10% of  B is covered.\r\n",
      "\t\t  Without -e, both fractions would have to be satisfied.\r\n",
      "\r\n",
      "\t-split\tTreat \"split\" BAM or BED12 entries as distinct BED intervals.\r\n",
      "\r\n",
      "\t-g\tProvide a genome file to enforce consistent chromosome sort order\r\n",
      "\t\tacross input files. Only applies when used with -sorted option.\r\n",
      "\r\n",
      "\t-nonamecheck\tFor sorted data, don't throw an error if the file has different naming conventions\r\n",
      "\t\t\tfor the same chromosome. ex. \"chr1\" vs \"chr01\".\r\n",
      "\r\n",
      "\t-sorted\tUse the \"chromsweep\" algorithm for sorted (-k1,1 -k2,2n) input.\r\n",
      "\r\n",
      "\t-names\tWhen using multiple databases, provide an alias for each that\r\n",
      "\t\twill appear instead of a fileId when also printing the DB record.\r\n",
      "\r\n",
      "\t-filenames\tWhen using multiple databases, show each complete filename\r\n",
      "\t\t\tinstead of a fileId when also printing the DB record.\r\n",
      "\r\n",
      "\t-sortout\tWhen using multiple databases, sort the output DB hits\r\n",
      "\t\t\tfor each record.\r\n",
      "\r\n",
      "\t-bed\tIf using BAM input, write output as BED.\r\n",
      "\r\n",
      "\t-header\tPrint the header from the A file prior to results.\r\n",
      "\r\n",
      "\t-nobuf\tDisable buffered output. Using this option will cause each line\r\n",
      "\t\tof output to be printed as it is generated, rather than saved\r\n",
      "\t\tin a buffer. This will make printing large output files \r\n",
      "\t\tnoticeably slower, but can be useful in conjunction with\r\n",
      "\t\tother software tools and scripts that need to process one\r\n",
      "\t\tline of bedtools output at a time.\r\n",
      "\r\n",
      "\t-iobuf\tSpecify amount of memory to use for input buffer.\r\n",
      "\t\tTakes an integer argument. Optional suffixes K/M/G supported.\r\n",
      "\t\tNote: currently has no effect with compressed files.\r\n",
      "\r\n",
      "Notes: \r\n",
      "\t(1) When a BAM file is used for the A file, the alignment is retained if overlaps exist,\r\n",
      "\tand excluded if an overlap cannot be found.  If multiple overlaps exist, they are not\r\n",
      "\treported, as we are only testing for one or more overlaps.\r\n",
      "\r\n",
      "\r\n",
      "\r\n",
      "\r\n"
     ]
    }
   ],
   "source": [
    "!{bedtoolsDirectory}intersectBed -h"
   ]
  },
  {
   "cell_type": "code",
   "execution_count": 153,
   "metadata": {},
   "outputs": [],
   "source": [
    "all10xCpGs = \"../Data/Pg_val_1_bismark_bt2_pe._10x.bedgraph.bed\""
   ]
  },
  {
   "cell_type": "code",
   "execution_count": 154,
   "metadata": {},
   "outputs": [],
   "source": [
    "methCpGs = \"../Output/Pg_val_1_bismark_bt2_pe._10x-Methylated.bedgraph.bed\""
   ]
  },
  {
   "cell_type": "code",
   "execution_count": 157,
   "metadata": {},
   "outputs": [],
   "source": [
    "sparseMethCpGs = \"../Output/Pg_val_1_bismark_bt2_pe._10x-Sparsely-Methylated.bedgraph.bed\""
   ]
  },
  {
   "cell_type": "code",
   "execution_count": 159,
   "metadata": {},
   "outputs": [],
   "source": [
    "unMethCpGs = \"../Output/Pg_val_1_bismark_bt2_pe._10x-Unmethylated.bedgraph.bed\""
   ]
  },
  {
   "cell_type": "markdown",
   "metadata": {},
   "source": [
    "### 3c. Exons"
   ]
  },
  {
   "cell_type": "markdown",
   "metadata": {},
   "source": [
    "#### All 10x CpGs"
   ]
  },
  {
   "cell_type": "code",
   "execution_count": 160,
   "metadata": {},
   "outputs": [
    {
     "name": "stdout",
     "output_type": "stream",
     "text": [
      "  112000\n",
      "all 10x CpG loci overlaps with exons\n"
     ]
    }
   ],
   "source": [
    "! {bedtoolsDirectory}intersectBed \\\n",
    "-wo \\\n",
    "-a {all10xCpGs} \\\n",
    "-b {exons} \\\n",
    "| wc -l\n",
    "!echo \"all 10x CpG loci overlaps with exons\""
   ]
  },
  {
   "cell_type": "code",
   "execution_count": 162,
   "metadata": {},
   "outputs": [],
   "source": [
    "! {bedtoolsDirectory}intersectBed \\\n",
    "-wo \\\n",
    "-a {all10xCpGs} \\\n",
    "-b {exons} \\\n",
    "> ../Output/Pg-10xCpGs-Exon-Overlaps.txt"
   ]
  },
  {
   "cell_type": "code",
   "execution_count": 163,
   "metadata": {
    "scrolled": true
   },
   "outputs": [
    {
     "name": "stdout",
     "output_type": "stream",
     "text": [
      "Scaffold_01\t53\t55\tScaffold_01\tGenSAS_5d9637f372b5d-publish\texon\t2\t125\t.\t+\t.\tID=PGEN_.00g000010.m01.exon01;Name=PGEN_.00g000010.m01.exon01;Parent=PGEN_.00g000010.m01;original_ID=21510-PGEN_.00g234140.m01.exon1;Alias=21510-PGEN_.00g234140.m01.exon1\t2\r\n",
      "Scaffold_01\t71\t73\tScaffold_01\tGenSAS_5d9637f372b5d-publish\texon\t2\t125\t.\t+\t.\tID=PGEN_.00g000010.m01.exon01;Name=PGEN_.00g000010.m01.exon01;Parent=PGEN_.00g000010.m01;original_ID=21510-PGEN_.00g234140.m01.exon1;Alias=21510-PGEN_.00g234140.m01.exon1\t2\r\n",
      "Scaffold_01\t95\t97\tScaffold_01\tGenSAS_5d9637f372b5d-publish\texon\t2\t125\t.\t+\t.\tID=PGEN_.00g000010.m01.exon01;Name=PGEN_.00g000010.m01.exon01;Parent=PGEN_.00g000010.m01;original_ID=21510-PGEN_.00g234140.m01.exon1;Alias=21510-PGEN_.00g234140.m01.exon1\t2\r\n",
      "Scaffold_01\t118\t120\tScaffold_01\tGenSAS_5d9637f372b5d-publish\texon\t2\t125\t.\t+\t.\tID=PGEN_.00g000010.m01.exon01;Name=PGEN_.00g000010.m01.exon01;Parent=PGEN_.00g000010.m01;original_ID=21510-PGEN_.00g234140.m01.exon1;Alias=21510-PGEN_.00g234140.m01.exon1\t2\r\n",
      "Scaffold_01\t2082\t2084\tScaffold_01\tGenSAS_5d9637f372b5d-publish\texon\t1995\t2095\t.\t+\t.\tID=PGEN_.00g000010.m01.exon02;Name=PGEN_.00g000010.m01.exon02;Parent=PGEN_.00g000010.m01;original_ID=21510-PGEN_.00g234140.m01.exon2;Alias=21510-PGEN_.00g234140.m01.exon2\t2\r\n",
      "Scaffold_01\t3361\t3363\tScaffold_01\tGenSAS_5d9637f372b5d-publish\texon\t3325\t3495\t.\t+\t.\tID=PGEN_.00g000010.m01.exon03;Name=PGEN_.00g000010.m01.exon03;Parent=PGEN_.00g000010.m01;original_ID=21510-PGEN_.00g234140.m01.exon3;Alias=21510-PGEN_.00g234140.m01.exon3\t2\r\n",
      "Scaffold_01\t3389\t3391\tScaffold_01\tGenSAS_5d9637f372b5d-publish\texon\t3325\t3495\t.\t+\t.\tID=PGEN_.00g000010.m01.exon03;Name=PGEN_.00g000010.m01.exon03;Parent=PGEN_.00g000010.m01;original_ID=21510-PGEN_.00g234140.m01.exon3;Alias=21510-PGEN_.00g234140.m01.exon3\t2\r\n",
      "Scaffold_01\t4660\t4662\tScaffold_01\tGenSAS_5d9637f372b5d-publish\texon\t4651\t4719\t.\t+\t.\tID=PGEN_.00g000010.m01.exon04;Name=PGEN_.00g000010.m01.exon04;Parent=PGEN_.00g000010.m01;original_ID=21510-PGEN_.00g234140.m01.exon4;Alias=21510-PGEN_.00g234140.m01.exon4\t2\r\n",
      "Scaffold_01\t4665\t4667\tScaffold_01\tGenSAS_5d9637f372b5d-publish\texon\t4651\t4719\t.\t+\t.\tID=PGEN_.00g000010.m01.exon04;Name=PGEN_.00g000010.m01.exon04;Parent=PGEN_.00g000010.m01;original_ID=21510-PGEN_.00g234140.m01.exon4;Alias=21510-PGEN_.00g234140.m01.exon4\t2\r\n",
      "Scaffold_01\t4670\t4672\tScaffold_01\tGenSAS_5d9637f372b5d-publish\texon\t4651\t4719\t.\t+\t.\tID=PGEN_.00g000010.m01.exon04;Name=PGEN_.00g000010.m01.exon04;Parent=PGEN_.00g000010.m01;original_ID=21510-PGEN_.00g234140.m01.exon4;Alias=21510-PGEN_.00g234140.m01.exon4\t2\r\n"
     ]
    }
   ],
   "source": [
    "!head ../Output/Pg-10xCpGs-Exon-Overlaps.txt"
   ]
  },
  {
   "cell_type": "markdown",
   "metadata": {},
   "source": [
    "#### Methylated CpGs"
   ]
  },
  {
   "cell_type": "code",
   "execution_count": 165,
   "metadata": {},
   "outputs": [
    {
     "name": "stdout",
     "output_type": "stream",
     "text": [
      "   50915\n",
      "methylated CpG loci overlaps with exons\n"
     ]
    }
   ],
   "source": [
    "! {bedtoolsDirectory}intersectBed \\\n",
    "-wo \\\n",
    "-a {methCpGs} \\\n",
    "-b {exons} \\\n",
    "| wc -l\n",
    "!echo \"methylated CpG loci overlaps with exons\""
   ]
  },
  {
   "cell_type": "code",
   "execution_count": 166,
   "metadata": {},
   "outputs": [],
   "source": [
    "! {bedtoolsDirectory}intersectBed \\\n",
    "-wo \\\n",
    "-a {methCpGs} \\\n",
    "-b {exons} \\\n",
    "> ../Output/Pg-MethylatedCpGs-Exon-Overlaps.txt"
   ]
  },
  {
   "cell_type": "code",
   "execution_count": 167,
   "metadata": {
    "scrolled": true
   },
   "outputs": [
    {
     "name": "stdout",
     "output_type": "stream",
     "text": [
      "Scaffold_01\t51414\t51416\tScaffold_01\tGenSAS_5d9637f372b5d-publish\texon\t51394\t51541\t.\t-\t.\tID=PGEN_.00g000030.m01.exon02;Name=PGEN_.00g000030.m01.exon02;Parent=PGEN_.00g000030.m01;original_ID=21510-PGEN_.00g234160.m02.exon2;Alias=21510-PGEN_.00g234160.m02.exon2\t2\r\n",
      "Scaffold_01\t51414\t51416\tScaffold_01\tGenSAS_5d9637f372b5d-publish\texon\t51394\t51541\t.\t-\t.\tID=PGEN_.00g000030.m02.exon02;Name=PGEN_.00g000030.m02.exon02;Parent=PGEN_.00g000030.m02;original_ID=21510-PGEN_.00g234160.m01.exon2;Alias=21510-PGEN_.00g234160.m01.exon2\t2\r\n",
      "Scaffold_01\t51426\t51428\tScaffold_01\tGenSAS_5d9637f372b5d-publish\texon\t51394\t51541\t.\t-\t.\tID=PGEN_.00g000030.m01.exon02;Name=PGEN_.00g000030.m01.exon02;Parent=PGEN_.00g000030.m01;original_ID=21510-PGEN_.00g234160.m02.exon2;Alias=21510-PGEN_.00g234160.m02.exon2\t2\r\n",
      "Scaffold_01\t51426\t51428\tScaffold_01\tGenSAS_5d9637f372b5d-publish\texon\t51394\t51541\t.\t-\t.\tID=PGEN_.00g000030.m02.exon02;Name=PGEN_.00g000030.m02.exon02;Parent=PGEN_.00g000030.m02;original_ID=21510-PGEN_.00g234160.m01.exon2;Alias=21510-PGEN_.00g234160.m01.exon2\t2\r\n",
      "Scaffold_01\t51470\t51472\tScaffold_01\tGenSAS_5d9637f372b5d-publish\texon\t51394\t51541\t.\t-\t.\tID=PGEN_.00g000030.m01.exon02;Name=PGEN_.00g000030.m01.exon02;Parent=PGEN_.00g000030.m01;original_ID=21510-PGEN_.00g234160.m02.exon2;Alias=21510-PGEN_.00g234160.m02.exon2\t2\r\n",
      "Scaffold_01\t51470\t51472\tScaffold_01\tGenSAS_5d9637f372b5d-publish\texon\t51394\t51541\t.\t-\t.\tID=PGEN_.00g000030.m02.exon02;Name=PGEN_.00g000030.m02.exon02;Parent=PGEN_.00g000030.m02;original_ID=21510-PGEN_.00g234160.m01.exon2;Alias=21510-PGEN_.00g234160.m01.exon2\t2\r\n",
      "Scaffold_01\t70728\t70730\tScaffold_01\tGenSAS_5d9637f372b5d-publish\texon\t70713\t70751\t.\t+\t.\tID=PGEN_.00g000060.m01.exon01;Name=PGEN_.00g000060.m01.exon01;Parent=PGEN_.00g000060.m01;original_ID=21510-PGEN_.00g234190.m01.exon1;Alias=21510-PGEN_.00g234190.m01.exon1\t2\r\n",
      "Scaffold_01\t71060\t71062\tScaffold_01\tGenSAS_5d9637f372b5d-publish\texon\t71038\t71242\t.\t+\t.\tID=PGEN_.00g000060.m01.exon02;Name=PGEN_.00g000060.m01.exon02;Parent=PGEN_.00g000060.m01;original_ID=21510-PGEN_.00g234190.m01.exon2;Alias=21510-PGEN_.00g234190.m01.exon2\t2\r\n",
      "Scaffold_01\t71063\t71065\tScaffold_01\tGenSAS_5d9637f372b5d-publish\texon\t71038\t71242\t.\t+\t.\tID=PGEN_.00g000060.m01.exon02;Name=PGEN_.00g000060.m01.exon02;Parent=PGEN_.00g000060.m01;original_ID=21510-PGEN_.00g234190.m01.exon2;Alias=21510-PGEN_.00g234190.m01.exon2\t2\r\n",
      "Scaffold_01\t71085\t71087\tScaffold_01\tGenSAS_5d9637f372b5d-publish\texon\t71038\t71242\t.\t+\t.\tID=PGEN_.00g000060.m01.exon02;Name=PGEN_.00g000060.m01.exon02;Parent=PGEN_.00g000060.m01;original_ID=21510-PGEN_.00g234190.m01.exon2;Alias=21510-PGEN_.00g234190.m01.exon2\t2\r\n"
     ]
    }
   ],
   "source": [
    "!head ../Output/Pg-MethylatedCpGs-Exon-Overlaps.txt"
   ]
  },
  {
   "cell_type": "markdown",
   "metadata": {},
   "source": [
    "#### Sparsely methylated CpGs"
   ]
  },
  {
   "cell_type": "code",
   "execution_count": 169,
   "metadata": {
    "scrolled": true
   },
   "outputs": [
    {
     "name": "stdout",
     "output_type": "stream",
     "text": [
      "    4968\n",
      "sparsely methylated CpG loci overlaps with exons\n"
     ]
    }
   ],
   "source": [
    "! {bedtoolsDirectory}intersectBed \\\n",
    "-wo \\\n",
    "-a {sparseMethCpGs} \\\n",
    "-b {exons} \\\n",
    "| wc -l\n",
    "!echo \"sparsely methylated CpG loci overlaps with exons\""
   ]
  },
  {
   "cell_type": "code",
   "execution_count": 170,
   "metadata": {},
   "outputs": [],
   "source": [
    "! {bedtoolsDirectory}intersectBed \\\n",
    "-wo \\\n",
    "-a {sparseMethCpGs} \\\n",
    "-b {exons} \\\n",
    "> ../Output/Pg-SparselyMethylatedCpGs-Exon-Overlaps.txt"
   ]
  },
  {
   "cell_type": "code",
   "execution_count": 171,
   "metadata": {
    "scrolled": true
   },
   "outputs": [
    {
     "name": "stdout",
     "output_type": "stream",
     "text": [
      "Scaffold_01\t19818\t19820\tScaffold_01\tGenSAS_5d9637f372b5d-publish\texon\t19808\t19943\t.\t-\t.\tID=PGEN_.00g000020.m01.exon01;Name=PGEN_.00g000020.m01.exon01;Parent=PGEN_.00g000020.m01;original_ID=21510-PGEN_.00g234150.m01.exon10;Alias=21510-PGEN_.00g234150.m01.exon10\t2\r\n",
      "Scaffold_01\t19941\t19943\tScaffold_01\tGenSAS_5d9637f372b5d-publish\texon\t19808\t19943\t.\t-\t.\tID=PGEN_.00g000020.m01.exon01;Name=PGEN_.00g000020.m01.exon01;Parent=PGEN_.00g000020.m01;original_ID=21510-PGEN_.00g234150.m01.exon10;Alias=21510-PGEN_.00g234150.m01.exon10\t2\r\n",
      "Scaffold_01\t24937\t24939\tScaffold_01\tGenSAS_5d9637f372b5d-publish\texon\t24824\t24959\t.\t-\t.\tID=PGEN_.00g000020.m01.exon04;Name=PGEN_.00g000020.m01.exon04;Parent=PGEN_.00g000020.m01;original_ID=21510-PGEN_.00g234150.m01.exon7;Alias=21510-PGEN_.00g234150.m01.exon7\t2\r\n",
      "Scaffold_01\t49258\t49260\tScaffold_01\tGenSAS_5d9637f372b5d-publish\texon\t49248\t49540\t.\t-\t.\tID=PGEN_.00g000030.m01.exon01;Name=PGEN_.00g000030.m01.exon01;Parent=PGEN_.00g000030.m01;original_ID=21510-PGEN_.00g234160.m02.exon3;Alias=21510-PGEN_.00g234160.m02.exon3\t2\r\n",
      "Scaffold_01\t49258\t49260\tScaffold_01\tGenSAS_5d9637f372b5d-publish\texon\t49248\t49540\t.\t-\t.\tID=PGEN_.00g000030.m02.exon01;Name=PGEN_.00g000030.m02.exon01;Parent=PGEN_.00g000030.m02;original_ID=21510-PGEN_.00g234160.m01.exon3;Alias=21510-PGEN_.00g234160.m01.exon3\t2\r\n",
      "Scaffold_01\t49263\t49265\tScaffold_01\tGenSAS_5d9637f372b5d-publish\texon\t49248\t49540\t.\t-\t.\tID=PGEN_.00g000030.m01.exon01;Name=PGEN_.00g000030.m01.exon01;Parent=PGEN_.00g000030.m01;original_ID=21510-PGEN_.00g234160.m02.exon3;Alias=21510-PGEN_.00g234160.m02.exon3\t2\r\n",
      "Scaffold_01\t49263\t49265\tScaffold_01\tGenSAS_5d9637f372b5d-publish\texon\t49248\t49540\t.\t-\t.\tID=PGEN_.00g000030.m02.exon01;Name=PGEN_.00g000030.m02.exon01;Parent=PGEN_.00g000030.m02;original_ID=21510-PGEN_.00g234160.m01.exon3;Alias=21510-PGEN_.00g234160.m01.exon3\t2\r\n",
      "Scaffold_01\t49300\t49302\tScaffold_01\tGenSAS_5d9637f372b5d-publish\texon\t49248\t49540\t.\t-\t.\tID=PGEN_.00g000030.m01.exon01;Name=PGEN_.00g000030.m01.exon01;Parent=PGEN_.00g000030.m01;original_ID=21510-PGEN_.00g234160.m02.exon3;Alias=21510-PGEN_.00g234160.m02.exon3\t2\r\n",
      "Scaffold_01\t49300\t49302\tScaffold_01\tGenSAS_5d9637f372b5d-publish\texon\t49248\t49540\t.\t-\t.\tID=PGEN_.00g000030.m02.exon01;Name=PGEN_.00g000030.m02.exon01;Parent=PGEN_.00g000030.m02;original_ID=21510-PGEN_.00g234160.m01.exon3;Alias=21510-PGEN_.00g234160.m01.exon3\t2\r\n",
      "Scaffold_01\t49343\t49345\tScaffold_01\tGenSAS_5d9637f372b5d-publish\texon\t49248\t49540\t.\t-\t.\tID=PGEN_.00g000030.m01.exon01;Name=PGEN_.00g000030.m01.exon01;Parent=PGEN_.00g000030.m01;original_ID=21510-PGEN_.00g234160.m02.exon3;Alias=21510-PGEN_.00g234160.m02.exon3\t2\r\n"
     ]
    }
   ],
   "source": [
    "!head ../Output/Pg-SparselyMethylatedCpGs-Exon-Overlaps.txt"
   ]
  },
  {
   "cell_type": "markdown",
   "metadata": {},
   "source": [
    "#### Unmethylated CpGs"
   ]
  },
  {
   "cell_type": "code",
   "execution_count": 172,
   "metadata": {},
   "outputs": [
    {
     "name": "stdout",
     "output_type": "stream",
     "text": [
      "   56117\n",
      "unmethylated CpG loci overlaps with exons\n"
     ]
    }
   ],
   "source": [
    "! {bedtoolsDirectory}intersectBed \\\n",
    "-wo \\\n",
    "-a {unMethCpGs} \\\n",
    "-b {exons} \\\n",
    "| wc -l\n",
    "!echo \"unmethylated CpG loci overlaps with exons\""
   ]
  },
  {
   "cell_type": "code",
   "execution_count": 173,
   "metadata": {},
   "outputs": [],
   "source": [
    "! {bedtoolsDirectory}intersectBed \\\n",
    "-wo \\\n",
    "-a {unMethCpGs} \\\n",
    "-b {exons} \\\n",
    "> ../Output/Pg-UnmethylatedCpGs-Exon-Overlaps.txt"
   ]
  },
  {
   "cell_type": "code",
   "execution_count": 174,
   "metadata": {
    "scrolled": true
   },
   "outputs": [
    {
     "name": "stdout",
     "output_type": "stream",
     "text": [
      "Scaffold_01\t53\t55\tScaffold_01\tGenSAS_5d9637f372b5d-publish\texon\t2\t125\t.\t+\t.\tID=PGEN_.00g000010.m01.exon01;Name=PGEN_.00g000010.m01.exon01;Parent=PGEN_.00g000010.m01;original_ID=21510-PGEN_.00g234140.m01.exon1;Alias=21510-PGEN_.00g234140.m01.exon1\t2\r\n",
      "Scaffold_01\t71\t73\tScaffold_01\tGenSAS_5d9637f372b5d-publish\texon\t2\t125\t.\t+\t.\tID=PGEN_.00g000010.m01.exon01;Name=PGEN_.00g000010.m01.exon01;Parent=PGEN_.00g000010.m01;original_ID=21510-PGEN_.00g234140.m01.exon1;Alias=21510-PGEN_.00g234140.m01.exon1\t2\r\n",
      "Scaffold_01\t95\t97\tScaffold_01\tGenSAS_5d9637f372b5d-publish\texon\t2\t125\t.\t+\t.\tID=PGEN_.00g000010.m01.exon01;Name=PGEN_.00g000010.m01.exon01;Parent=PGEN_.00g000010.m01;original_ID=21510-PGEN_.00g234140.m01.exon1;Alias=21510-PGEN_.00g234140.m01.exon1\t2\r\n",
      "Scaffold_01\t118\t120\tScaffold_01\tGenSAS_5d9637f372b5d-publish\texon\t2\t125\t.\t+\t.\tID=PGEN_.00g000010.m01.exon01;Name=PGEN_.00g000010.m01.exon01;Parent=PGEN_.00g000010.m01;original_ID=21510-PGEN_.00g234140.m01.exon1;Alias=21510-PGEN_.00g234140.m01.exon1\t2\r\n",
      "Scaffold_01\t2082\t2084\tScaffold_01\tGenSAS_5d9637f372b5d-publish\texon\t1995\t2095\t.\t+\t.\tID=PGEN_.00g000010.m01.exon02;Name=PGEN_.00g000010.m01.exon02;Parent=PGEN_.00g000010.m01;original_ID=21510-PGEN_.00g234140.m01.exon2;Alias=21510-PGEN_.00g234140.m01.exon2\t2\r\n",
      "Scaffold_01\t3361\t3363\tScaffold_01\tGenSAS_5d9637f372b5d-publish\texon\t3325\t3495\t.\t+\t.\tID=PGEN_.00g000010.m01.exon03;Name=PGEN_.00g000010.m01.exon03;Parent=PGEN_.00g000010.m01;original_ID=21510-PGEN_.00g234140.m01.exon3;Alias=21510-PGEN_.00g234140.m01.exon3\t2\r\n",
      "Scaffold_01\t3389\t3391\tScaffold_01\tGenSAS_5d9637f372b5d-publish\texon\t3325\t3495\t.\t+\t.\tID=PGEN_.00g000010.m01.exon03;Name=PGEN_.00g000010.m01.exon03;Parent=PGEN_.00g000010.m01;original_ID=21510-PGEN_.00g234140.m01.exon3;Alias=21510-PGEN_.00g234140.m01.exon3\t2\r\n",
      "Scaffold_01\t4660\t4662\tScaffold_01\tGenSAS_5d9637f372b5d-publish\texon\t4651\t4719\t.\t+\t.\tID=PGEN_.00g000010.m01.exon04;Name=PGEN_.00g000010.m01.exon04;Parent=PGEN_.00g000010.m01;original_ID=21510-PGEN_.00g234140.m01.exon4;Alias=21510-PGEN_.00g234140.m01.exon4\t2\r\n",
      "Scaffold_01\t4665\t4667\tScaffold_01\tGenSAS_5d9637f372b5d-publish\texon\t4651\t4719\t.\t+\t.\tID=PGEN_.00g000010.m01.exon04;Name=PGEN_.00g000010.m01.exon04;Parent=PGEN_.00g000010.m01;original_ID=21510-PGEN_.00g234140.m01.exon4;Alias=21510-PGEN_.00g234140.m01.exon4\t2\r\n",
      "Scaffold_01\t4670\t4672\tScaffold_01\tGenSAS_5d9637f372b5d-publish\texon\t4651\t4719\t.\t+\t.\tID=PGEN_.00g000010.m01.exon04;Name=PGEN_.00g000010.m01.exon04;Parent=PGEN_.00g000010.m01;original_ID=21510-PGEN_.00g234140.m01.exon4;Alias=21510-PGEN_.00g234140.m01.exon4\t2\r\n"
     ]
    }
   ],
   "source": [
    "!head ../Output/Pg-UnmethylatedCpGs-Exon-Overlaps.txt"
   ]
  },
  {
   "cell_type": "markdown",
   "metadata": {},
   "source": [
    "### 3d. Genes"
   ]
  },
  {
   "cell_type": "markdown",
   "metadata": {},
   "source": [
    "#### All 10x CpGs"
   ]
  },
  {
   "cell_type": "code",
   "execution_count": 175,
   "metadata": {},
   "outputs": [
    {
     "name": "stdout",
     "output_type": "stream",
     "text": [
      "  473521\n",
      "all 10x CpG loci overlaps with genes\n"
     ]
    }
   ],
   "source": [
    "! {bedtoolsDirectory}intersectBed \\\n",
    "-wo \\\n",
    "-a {all10xCpGs} \\\n",
    "-b {genes} \\\n",
    "| wc -l\n",
    "!echo \"all 10x CpG loci overlaps with genes\""
   ]
  },
  {
   "cell_type": "code",
   "execution_count": 178,
   "metadata": {},
   "outputs": [],
   "source": [
    "! {bedtoolsDirectory}intersectBed \\\n",
    "-wo \\\n",
    "-a {all10xCpGs} \\\n",
    "-b {genes} \\\n",
    "> ../Output/Pg-10xCpGs-Gene-Overlaps.txt"
   ]
  },
  {
   "cell_type": "code",
   "execution_count": 179,
   "metadata": {
    "scrolled": true
   },
   "outputs": [
    {
     "name": "stdout",
     "output_type": "stream",
     "text": [
      "Scaffold_01\t53\t55\tScaffold_01\tGenSAS_5d9637f372b5d-publish\tgene\t2\t4719\t.\t+\t.\tID=PGEN_.00g000010;Name=PGEN_.00g000010;original_ID=21510-PGEN_.00g234140;Alias=21510-PGEN_.00g234140;original_name=21510-PGEN_.00g234140;Notes=sp|Q86IC9|CAMT1_DICDI [BLAST protein vs protein (blastp) 2.7.1],PF01596.12 [Pfam 1.6]\t2\r\n",
      "Scaffold_01\t71\t73\tScaffold_01\tGenSAS_5d9637f372b5d-publish\tgene\t2\t4719\t.\t+\t.\tID=PGEN_.00g000010;Name=PGEN_.00g000010;original_ID=21510-PGEN_.00g234140;Alias=21510-PGEN_.00g234140;original_name=21510-PGEN_.00g234140;Notes=sp|Q86IC9|CAMT1_DICDI [BLAST protein vs protein (blastp) 2.7.1],PF01596.12 [Pfam 1.6]\t2\r\n",
      "Scaffold_01\t95\t97\tScaffold_01\tGenSAS_5d9637f372b5d-publish\tgene\t2\t4719\t.\t+\t.\tID=PGEN_.00g000010;Name=PGEN_.00g000010;original_ID=21510-PGEN_.00g234140;Alias=21510-PGEN_.00g234140;original_name=21510-PGEN_.00g234140;Notes=sp|Q86IC9|CAMT1_DICDI [BLAST protein vs protein (blastp) 2.7.1],PF01596.12 [Pfam 1.6]\t2\r\n",
      "Scaffold_01\t118\t120\tScaffold_01\tGenSAS_5d9637f372b5d-publish\tgene\t2\t4719\t.\t+\t.\tID=PGEN_.00g000010;Name=PGEN_.00g000010;original_ID=21510-PGEN_.00g234140;Alias=21510-PGEN_.00g234140;original_name=21510-PGEN_.00g234140;Notes=sp|Q86IC9|CAMT1_DICDI [BLAST protein vs protein (blastp) 2.7.1],PF01596.12 [Pfam 1.6]\t2\r\n",
      "Scaffold_01\t192\t194\tScaffold_01\tGenSAS_5d9637f372b5d-publish\tgene\t2\t4719\t.\t+\t.\tID=PGEN_.00g000010;Name=PGEN_.00g000010;original_ID=21510-PGEN_.00g234140;Alias=21510-PGEN_.00g234140;original_name=21510-PGEN_.00g234140;Notes=sp|Q86IC9|CAMT1_DICDI [BLAST protein vs protein (blastp) 2.7.1],PF01596.12 [Pfam 1.6]\t2\r\n",
      "Scaffold_01\t201\t203\tScaffold_01\tGenSAS_5d9637f372b5d-publish\tgene\t2\t4719\t.\t+\t.\tID=PGEN_.00g000010;Name=PGEN_.00g000010;original_ID=21510-PGEN_.00g234140;Alias=21510-PGEN_.00g234140;original_name=21510-PGEN_.00g234140;Notes=sp|Q86IC9|CAMT1_DICDI [BLAST protein vs protein (blastp) 2.7.1],PF01596.12 [Pfam 1.6]\t2\r\n",
      "Scaffold_01\t208\t210\tScaffold_01\tGenSAS_5d9637f372b5d-publish\tgene\t2\t4719\t.\t+\t.\tID=PGEN_.00g000010;Name=PGEN_.00g000010;original_ID=21510-PGEN_.00g234140;Alias=21510-PGEN_.00g234140;original_name=21510-PGEN_.00g234140;Notes=sp|Q86IC9|CAMT1_DICDI [BLAST protein vs protein (blastp) 2.7.1],PF01596.12 [Pfam 1.6]\t2\r\n",
      "Scaffold_01\t212\t214\tScaffold_01\tGenSAS_5d9637f372b5d-publish\tgene\t2\t4719\t.\t+\t.\tID=PGEN_.00g000010;Name=PGEN_.00g000010;original_ID=21510-PGEN_.00g234140;Alias=21510-PGEN_.00g234140;original_name=21510-PGEN_.00g234140;Notes=sp|Q86IC9|CAMT1_DICDI [BLAST protein vs protein (blastp) 2.7.1],PF01596.12 [Pfam 1.6]\t2\r\n",
      "Scaffold_01\t220\t222\tScaffold_01\tGenSAS_5d9637f372b5d-publish\tgene\t2\t4719\t.\t+\t.\tID=PGEN_.00g000010;Name=PGEN_.00g000010;original_ID=21510-PGEN_.00g234140;Alias=21510-PGEN_.00g234140;original_name=21510-PGEN_.00g234140;Notes=sp|Q86IC9|CAMT1_DICDI [BLAST protein vs protein (blastp) 2.7.1],PF01596.12 [Pfam 1.6]\t2\r\n",
      "Scaffold_01\t237\t239\tScaffold_01\tGenSAS_5d9637f372b5d-publish\tgene\t2\t4719\t.\t+\t.\tID=PGEN_.00g000010;Name=PGEN_.00g000010;original_ID=21510-PGEN_.00g234140;Alias=21510-PGEN_.00g234140;original_name=21510-PGEN_.00g234140;Notes=sp|Q86IC9|CAMT1_DICDI [BLAST protein vs protein (blastp) 2.7.1],PF01596.12 [Pfam 1.6]\t2\r\n"
     ]
    }
   ],
   "source": [
    "!head ../Output/Pg-10xCpGs-Gene-Overlaps.txt"
   ]
  },
  {
   "cell_type": "markdown",
   "metadata": {},
   "source": [
    "#### Methylated CpGs"
   ]
  },
  {
   "cell_type": "code",
   "execution_count": 181,
   "metadata": {},
   "outputs": [
    {
     "name": "stdout",
     "output_type": "stream",
     "text": [
      "  207303\n",
      "methylated CpG loci overlaps with genes\n"
     ]
    }
   ],
   "source": [
    "! {bedtoolsDirectory}intersectBed \\\n",
    "-wo \\\n",
    "-a {methCpGs} \\\n",
    "-b {genes} \\\n",
    "| wc -l\n",
    "!echo \"methylated CpG loci overlaps with genes\""
   ]
  },
  {
   "cell_type": "code",
   "execution_count": 182,
   "metadata": {},
   "outputs": [],
   "source": [
    "! {bedtoolsDirectory}intersectBed \\\n",
    "-wo \\\n",
    "-a {methCpGs} \\\n",
    "-b {genes} \\\n",
    "> ../Output/Pg-MethylatedCpGs-Gene-Overlaps.txt"
   ]
  },
  {
   "cell_type": "code",
   "execution_count": 183,
   "metadata": {
    "scrolled": true
   },
   "outputs": [
    {
     "name": "stdout",
     "output_type": "stream",
     "text": [
      "Scaffold_01\t51414\t51416\tScaffold_01\tGenSAS_5d9637f372b5d-publish\tgene\t49248\t52578\t.\t-\t.\tID=PGEN_.00g000030;Name=PGEN_.00g000030;original_ID=21510-PGEN_.00g234160;Alias=21510-PGEN_.00g234160;original_name=21510-PGEN_.00g234160;Notes=PF08054.6 [Pfam 1.6]\t2\r\n",
      "Scaffold_01\t51426\t51428\tScaffold_01\tGenSAS_5d9637f372b5d-publish\tgene\t49248\t52578\t.\t-\t.\tID=PGEN_.00g000030;Name=PGEN_.00g000030;original_ID=21510-PGEN_.00g234160;Alias=21510-PGEN_.00g234160;original_name=21510-PGEN_.00g234160;Notes=PF08054.6 [Pfam 1.6]\t2\r\n",
      "Scaffold_01\t51470\t51472\tScaffold_01\tGenSAS_5d9637f372b5d-publish\tgene\t49248\t52578\t.\t-\t.\tID=PGEN_.00g000030;Name=PGEN_.00g000030;original_ID=21510-PGEN_.00g234160;Alias=21510-PGEN_.00g234160;original_name=21510-PGEN_.00g234160;Notes=PF08054.6 [Pfam 1.6]\t2\r\n",
      "Scaffold_01\t51563\t51565\tScaffold_01\tGenSAS_5d9637f372b5d-publish\tgene\t49248\t52578\t.\t-\t.\tID=PGEN_.00g000030;Name=PGEN_.00g000030;original_ID=21510-PGEN_.00g234160;Alias=21510-PGEN_.00g234160;original_name=21510-PGEN_.00g234160;Notes=PF08054.6 [Pfam 1.6]\t2\r\n",
      "Scaffold_01\t51570\t51572\tScaffold_01\tGenSAS_5d9637f372b5d-publish\tgene\t49248\t52578\t.\t-\t.\tID=PGEN_.00g000030;Name=PGEN_.00g000030;original_ID=21510-PGEN_.00g234160;Alias=21510-PGEN_.00g234160;original_name=21510-PGEN_.00g234160;Notes=PF08054.6 [Pfam 1.6]\t2\r\n",
      "Scaffold_01\t51586\t51588\tScaffold_01\tGenSAS_5d9637f372b5d-publish\tgene\t49248\t52578\t.\t-\t.\tID=PGEN_.00g000030;Name=PGEN_.00g000030;original_ID=21510-PGEN_.00g234160;Alias=21510-PGEN_.00g234160;original_name=21510-PGEN_.00g234160;Notes=PF08054.6 [Pfam 1.6]\t2\r\n",
      "Scaffold_01\t68318\t68320\tScaffold_01\tGenSAS_5d9637f372b5d-publish\tgene\t67586\t69113\t.\t-\t.\tID=PGEN_.00g000050;Name=PGEN_.00g000050;original_ID=21510-PGEN_.00g234180;Alias=21510-PGEN_.00g234180;original_name=21510-PGEN_.00g234180;Notes=sp|Q8L840|RQL4A_ARATH [BLAST protein vs protein (blastp) 2.7.1],sp|Q8L840|RQL4A_ARATH [DIAMOND Functional 0.9.22],PF00270.24 [Pfam 1.6]\t2\r\n",
      "Scaffold_01\t68837\t68839\tScaffold_01\tGenSAS_5d9637f372b5d-publish\tgene\t67586\t69113\t.\t-\t.\tID=PGEN_.00g000050;Name=PGEN_.00g000050;original_ID=21510-PGEN_.00g234180;Alias=21510-PGEN_.00g234180;original_name=21510-PGEN_.00g234180;Notes=sp|Q8L840|RQL4A_ARATH [BLAST protein vs protein (blastp) 2.7.1],sp|Q8L840|RQL4A_ARATH [DIAMOND Functional 0.9.22],PF00270.24 [Pfam 1.6]\t2\r\n",
      "Scaffold_01\t68844\t68846\tScaffold_01\tGenSAS_5d9637f372b5d-publish\tgene\t67586\t69113\t.\t-\t.\tID=PGEN_.00g000050;Name=PGEN_.00g000050;original_ID=21510-PGEN_.00g234180;Alias=21510-PGEN_.00g234180;original_name=21510-PGEN_.00g234180;Notes=sp|Q8L840|RQL4A_ARATH [BLAST protein vs protein (blastp) 2.7.1],sp|Q8L840|RQL4A_ARATH [DIAMOND Functional 0.9.22],PF00270.24 [Pfam 1.6]\t2\r\n",
      "Scaffold_01\t70728\t70730\tScaffold_01\tGenSAS_5d9637f372b5d-publish\tgene\t70713\t81099\t.\t+\t.\tID=PGEN_.00g000060;Name=PGEN_.00g000060;original_ID=21510-PGEN_.00g234190;Alias=21510-PGEN_.00g234190;original_name=21510-PGEN_.00g234190;Notes=sp|Q61043|NIN_MOUSE [DIAMOND Functional 0.9.22],PF04443.7 [Pfam 1.6]\t2\r\n"
     ]
    }
   ],
   "source": [
    "!head ../Output/Pg-MethylatedCpGs-Gene-Overlaps.txt"
   ]
  },
  {
   "cell_type": "markdown",
   "metadata": {},
   "source": [
    "#### Sparsely methylated CpGs"
   ]
  },
  {
   "cell_type": "code",
   "execution_count": 169,
   "metadata": {
    "scrolled": true
   },
   "outputs": [
    {
     "name": "stdout",
     "output_type": "stream",
     "text": [
      "    4968\n",
      "sparsely methylated CpG loci overlaps with exons\n"
     ]
    }
   ],
   "source": [
    "! {bedtoolsDirectory}intersectBed \\\n",
    "-wo \\\n",
    "-a {sparseMethCpGs} \\\n",
    "-b {genes} \\\n",
    "| wc -l\n",
    "!echo \"sparsely methylated CpG loci overlaps with genes\""
   ]
  },
  {
   "cell_type": "code",
   "execution_count": 184,
   "metadata": {},
   "outputs": [],
   "source": [
    "! {bedtoolsDirectory}intersectBed \\\n",
    "-wo \\\n",
    "-a {sparseMethCpGs} \\\n",
    "-b {genes} \\\n",
    "> ../Output/Pg-SparselyMethylatedCpGs-Gene-Overlaps.txt"
   ]
  },
  {
   "cell_type": "code",
   "execution_count": 185,
   "metadata": {
    "scrolled": true
   },
   "outputs": [
    {
     "name": "stdout",
     "output_type": "stream",
     "text": [
      "Scaffold_01\t617\t619\tScaffold_01\tGenSAS_5d9637f372b5d-publish\tgene\t2\t4719\t.\t+\t.\tID=PGEN_.00g000010;Name=PGEN_.00g000010;original_ID=21510-PGEN_.00g234140;Alias=21510-PGEN_.00g234140;original_name=21510-PGEN_.00g234140;Notes=sp|Q86IC9|CAMT1_DICDI [BLAST protein vs protein (blastp) 2.7.1],PF01596.12 [Pfam 1.6]\t2\r\n",
      "Scaffold_01\t2962\t2964\tScaffold_01\tGenSAS_5d9637f372b5d-publish\tgene\t2\t4719\t.\t+\t.\tID=PGEN_.00g000010;Name=PGEN_.00g000010;original_ID=21510-PGEN_.00g234140;Alias=21510-PGEN_.00g234140;original_name=21510-PGEN_.00g234140;Notes=sp|Q86IC9|CAMT1_DICDI [BLAST protein vs protein (blastp) 2.7.1],PF01596.12 [Pfam 1.6]\t2\r\n",
      "Scaffold_01\t19818\t19820\tScaffold_01\tGenSAS_5d9637f372b5d-publish\tgene\t19808\t36739\t.\t-\t.\tID=PGEN_.00g000020;Name=PGEN_.00g000020;original_ID=21510-PGEN_.00g234150;Alias=21510-PGEN_.00g234150;original_name=21510-PGEN_.00g234150;Notes=sp|P04177|TY3H_RAT [BLAST protein vs protein (blastp) 2.7.1],sp|P04177|TY3H_RAT [DIAMOND Functional 0.9.22],IPR036951 [InterProScan 5.29-68.0],PF00351.16 [Pfam 1.6]\t2\r\n",
      "Scaffold_01\t19941\t19943\tScaffold_01\tGenSAS_5d9637f372b5d-publish\tgene\t19808\t36739\t.\t-\t.\tID=PGEN_.00g000020;Name=PGEN_.00g000020;original_ID=21510-PGEN_.00g234150;Alias=21510-PGEN_.00g234150;original_name=21510-PGEN_.00g234150;Notes=sp|P04177|TY3H_RAT [BLAST protein vs protein (blastp) 2.7.1],sp|P04177|TY3H_RAT [DIAMOND Functional 0.9.22],IPR036951 [InterProScan 5.29-68.0],PF00351.16 [Pfam 1.6]\t2\r\n",
      "Scaffold_01\t24937\t24939\tScaffold_01\tGenSAS_5d9637f372b5d-publish\tgene\t19808\t36739\t.\t-\t.\tID=PGEN_.00g000020;Name=PGEN_.00g000020;original_ID=21510-PGEN_.00g234150;Alias=21510-PGEN_.00g234150;original_name=21510-PGEN_.00g234150;Notes=sp|P04177|TY3H_RAT [BLAST protein vs protein (blastp) 2.7.1],sp|P04177|TY3H_RAT [DIAMOND Functional 0.9.22],IPR036951 [InterProScan 5.29-68.0],PF00351.16 [Pfam 1.6]\t2\r\n",
      "Scaffold_01\t28835\t28837\tScaffold_01\tGenSAS_5d9637f372b5d-publish\tgene\t19808\t36739\t.\t-\t.\tID=PGEN_.00g000020;Name=PGEN_.00g000020;original_ID=21510-PGEN_.00g234150;Alias=21510-PGEN_.00g234150;original_name=21510-PGEN_.00g234150;Notes=sp|P04177|TY3H_RAT [BLAST protein vs protein (blastp) 2.7.1],sp|P04177|TY3H_RAT [DIAMOND Functional 0.9.22],IPR036951 [InterProScan 5.29-68.0],PF00351.16 [Pfam 1.6]\t2\r\n",
      "Scaffold_01\t33335\t33337\tScaffold_01\tGenSAS_5d9637f372b5d-publish\tgene\t19808\t36739\t.\t-\t.\tID=PGEN_.00g000020;Name=PGEN_.00g000020;original_ID=21510-PGEN_.00g234150;Alias=21510-PGEN_.00g234150;original_name=21510-PGEN_.00g234150;Notes=sp|P04177|TY3H_RAT [BLAST protein vs protein (blastp) 2.7.1],sp|P04177|TY3H_RAT [DIAMOND Functional 0.9.22],IPR036951 [InterProScan 5.29-68.0],PF00351.16 [Pfam 1.6]\t2\r\n",
      "Scaffold_01\t33479\t33481\tScaffold_01\tGenSAS_5d9637f372b5d-publish\tgene\t19808\t36739\t.\t-\t.\tID=PGEN_.00g000020;Name=PGEN_.00g000020;original_ID=21510-PGEN_.00g234150;Alias=21510-PGEN_.00g234150;original_name=21510-PGEN_.00g234150;Notes=sp|P04177|TY3H_RAT [BLAST protein vs protein (blastp) 2.7.1],sp|P04177|TY3H_RAT [DIAMOND Functional 0.9.22],IPR036951 [InterProScan 5.29-68.0],PF00351.16 [Pfam 1.6]\t2\r\n",
      "Scaffold_01\t49258\t49260\tScaffold_01\tGenSAS_5d9637f372b5d-publish\tgene\t49248\t52578\t.\t-\t.\tID=PGEN_.00g000030;Name=PGEN_.00g000030;original_ID=21510-PGEN_.00g234160;Alias=21510-PGEN_.00g234160;original_name=21510-PGEN_.00g234160;Notes=PF08054.6 [Pfam 1.6]\t2\r\n",
      "Scaffold_01\t49263\t49265\tScaffold_01\tGenSAS_5d9637f372b5d-publish\tgene\t49248\t52578\t.\t-\t.\tID=PGEN_.00g000030;Name=PGEN_.00g000030;original_ID=21510-PGEN_.00g234160;Alias=21510-PGEN_.00g234160;original_name=21510-PGEN_.00g234160;Notes=PF08054.6 [Pfam 1.6]\t2\r\n"
     ]
    }
   ],
   "source": [
    "!head ../Output/Pg-SparselyMethylatedCpGs-Gene-Overlaps.txt"
   ]
  },
  {
   "cell_type": "markdown",
   "metadata": {},
   "source": [
    "#### Unmethylated CpGs"
   ]
  },
  {
   "cell_type": "code",
   "execution_count": 186,
   "metadata": {},
   "outputs": [
    {
     "name": "stdout",
     "output_type": "stream",
     "text": [
      "  225844\n",
      "unmethylated CpG loci overlaps with genes\n"
     ]
    }
   ],
   "source": [
    "! {bedtoolsDirectory}intersectBed \\\n",
    "-wo \\\n",
    "-a {unMethCpGs} \\\n",
    "-b {genes} \\\n",
    "| wc -l\n",
    "!echo \"unmethylated CpG loci overlaps with genes\""
   ]
  },
  {
   "cell_type": "code",
   "execution_count": 187,
   "metadata": {},
   "outputs": [],
   "source": [
    "! {bedtoolsDirectory}intersectBed \\\n",
    "-wo \\\n",
    "-a {unMethCpGs} \\\n",
    "-b {genes} \\\n",
    "> ../Output/Pg-UnmethylatedCpGs-Gene-Overlaps.txt"
   ]
  },
  {
   "cell_type": "code",
   "execution_count": 188,
   "metadata": {
    "scrolled": true
   },
   "outputs": [
    {
     "name": "stdout",
     "output_type": "stream",
     "text": [
      "Scaffold_01\t53\t55\tScaffold_01\tGenSAS_5d9637f372b5d-publish\tgene\t2\t4719\t.\t+\t.\tID=PGEN_.00g000010;Name=PGEN_.00g000010;original_ID=21510-PGEN_.00g234140;Alias=21510-PGEN_.00g234140;original_name=21510-PGEN_.00g234140;Notes=sp|Q86IC9|CAMT1_DICDI [BLAST protein vs protein (blastp) 2.7.1],PF01596.12 [Pfam 1.6]\t2\r\n",
      "Scaffold_01\t71\t73\tScaffold_01\tGenSAS_5d9637f372b5d-publish\tgene\t2\t4719\t.\t+\t.\tID=PGEN_.00g000010;Name=PGEN_.00g000010;original_ID=21510-PGEN_.00g234140;Alias=21510-PGEN_.00g234140;original_name=21510-PGEN_.00g234140;Notes=sp|Q86IC9|CAMT1_DICDI [BLAST protein vs protein (blastp) 2.7.1],PF01596.12 [Pfam 1.6]\t2\r\n",
      "Scaffold_01\t95\t97\tScaffold_01\tGenSAS_5d9637f372b5d-publish\tgene\t2\t4719\t.\t+\t.\tID=PGEN_.00g000010;Name=PGEN_.00g000010;original_ID=21510-PGEN_.00g234140;Alias=21510-PGEN_.00g234140;original_name=21510-PGEN_.00g234140;Notes=sp|Q86IC9|CAMT1_DICDI [BLAST protein vs protein (blastp) 2.7.1],PF01596.12 [Pfam 1.6]\t2\r\n",
      "Scaffold_01\t118\t120\tScaffold_01\tGenSAS_5d9637f372b5d-publish\tgene\t2\t4719\t.\t+\t.\tID=PGEN_.00g000010;Name=PGEN_.00g000010;original_ID=21510-PGEN_.00g234140;Alias=21510-PGEN_.00g234140;original_name=21510-PGEN_.00g234140;Notes=sp|Q86IC9|CAMT1_DICDI [BLAST protein vs protein (blastp) 2.7.1],PF01596.12 [Pfam 1.6]\t2\r\n",
      "Scaffold_01\t192\t194\tScaffold_01\tGenSAS_5d9637f372b5d-publish\tgene\t2\t4719\t.\t+\t.\tID=PGEN_.00g000010;Name=PGEN_.00g000010;original_ID=21510-PGEN_.00g234140;Alias=21510-PGEN_.00g234140;original_name=21510-PGEN_.00g234140;Notes=sp|Q86IC9|CAMT1_DICDI [BLAST protein vs protein (blastp) 2.7.1],PF01596.12 [Pfam 1.6]\t2\r\n",
      "Scaffold_01\t201\t203\tScaffold_01\tGenSAS_5d9637f372b5d-publish\tgene\t2\t4719\t.\t+\t.\tID=PGEN_.00g000010;Name=PGEN_.00g000010;original_ID=21510-PGEN_.00g234140;Alias=21510-PGEN_.00g234140;original_name=21510-PGEN_.00g234140;Notes=sp|Q86IC9|CAMT1_DICDI [BLAST protein vs protein (blastp) 2.7.1],PF01596.12 [Pfam 1.6]\t2\r\n",
      "Scaffold_01\t208\t210\tScaffold_01\tGenSAS_5d9637f372b5d-publish\tgene\t2\t4719\t.\t+\t.\tID=PGEN_.00g000010;Name=PGEN_.00g000010;original_ID=21510-PGEN_.00g234140;Alias=21510-PGEN_.00g234140;original_name=21510-PGEN_.00g234140;Notes=sp|Q86IC9|CAMT1_DICDI [BLAST protein vs protein (blastp) 2.7.1],PF01596.12 [Pfam 1.6]\t2\r\n",
      "Scaffold_01\t212\t214\tScaffold_01\tGenSAS_5d9637f372b5d-publish\tgene\t2\t4719\t.\t+\t.\tID=PGEN_.00g000010;Name=PGEN_.00g000010;original_ID=21510-PGEN_.00g234140;Alias=21510-PGEN_.00g234140;original_name=21510-PGEN_.00g234140;Notes=sp|Q86IC9|CAMT1_DICDI [BLAST protein vs protein (blastp) 2.7.1],PF01596.12 [Pfam 1.6]\t2\r\n",
      "Scaffold_01\t220\t222\tScaffold_01\tGenSAS_5d9637f372b5d-publish\tgene\t2\t4719\t.\t+\t.\tID=PGEN_.00g000010;Name=PGEN_.00g000010;original_ID=21510-PGEN_.00g234140;Alias=21510-PGEN_.00g234140;original_name=21510-PGEN_.00g234140;Notes=sp|Q86IC9|CAMT1_DICDI [BLAST protein vs protein (blastp) 2.7.1],PF01596.12 [Pfam 1.6]\t2\r\n",
      "Scaffold_01\t237\t239\tScaffold_01\tGenSAS_5d9637f372b5d-publish\tgene\t2\t4719\t.\t+\t.\tID=PGEN_.00g000010;Name=PGEN_.00g000010;original_ID=21510-PGEN_.00g234140;Alias=21510-PGEN_.00g234140;original_name=21510-PGEN_.00g234140;Notes=sp|Q86IC9|CAMT1_DICDI [BLAST protein vs protein (blastp) 2.7.1],PF01596.12 [Pfam 1.6]\t2\r\n"
     ]
    }
   ],
   "source": [
    "!head ../Output/Pg-UnmethylatedCpGs-Gene-Overlaps.txt"
   ]
  },
  {
   "cell_type": "markdown",
   "metadata": {},
   "source": [
    "## 4. Generate methylation islands"
   ]
  },
  {
   "cell_type": "markdown",
   "metadata": {},
   "source": [
    "To identify methylation islands using the method from Jeong et al. (2018), I need to define:\n",
    "\n",
    "- starting size of the methylation window: 500 bp\n",
    "- minimum fraction of methylated CpGs required within the window to be accepted: 0.02\n",
    "- step size to extend the accepted window as long as the mCpG fraction is met: 50 bp\n",
    "- mCpG file: input with mCpG chromosome and bp position"
   ]
  },
  {
   "cell_type": "markdown",
   "metadata": {},
   "source": [
    "### 4a. Create mCpG file"
   ]
  },
  {
   "cell_type": "code",
   "execution_count": 50,
   "metadata": {},
   "outputs": [],
   "source": [
    "#Modify mCpG file by removing the third column that is not needed for methylation island analysis\n",
    "!awk '{print $1\"\\t\"$2}' ../Output/Pg_val_1_bismark_bt2_pe._10x-Methylated.bedgraph.bed \\\n",
    "> ../Output/Pg_val_1_bismark_bt2_pe._10x-Methylated-Reduced.bed"
   ]
  },
  {
   "cell_type": "code",
   "execution_count": 51,
   "metadata": {},
   "outputs": [
    {
     "name": "stdout",
     "output_type": "stream",
     "text": [
      "Scaffold_01\t11797\r\n",
      "Scaffold_01\t11838\r\n",
      "Scaffold_01\t11843\r\n",
      "Scaffold_01\t11846\r\n",
      "Scaffold_01\t11851\r\n",
      "Scaffold_01\t12029\r\n",
      "Scaffold_01\t51414\r\n",
      "Scaffold_01\t51426\r\n",
      "Scaffold_01\t51470\r\n",
      "Scaffold_01\t51563\r\n"
     ]
    }
   ],
   "source": [
    "#Confirm file only has chromosome and start bp for mCpG\n",
    "!head ../Output/Pg_val_1_bismark_bt2_pe._10x-Methylated-Reduced.bed"
   ]
  },
  {
   "cell_type": "markdown",
   "metadata": {},
   "source": [
    "### 4b. Identify methylation islands"
   ]
  },
  {
   "cell_type": "code",
   "execution_count": null,
   "metadata": {},
   "outputs": [],
   "source": [
    "#Make perl script executable\n",
    "!chmod +x methyl_island_sliding_window.pl"
   ]
  },
  {
   "cell_type": "code",
   "execution_count": 63,
   "metadata": {},
   "outputs": [],
   "source": [
    "#Identify methylation islands using 0.02 mCpG fraction\n",
    "! ./methyl_island_sliding_window.pl 500 0.02 50 ../Output/Pg_val_1_bismark_bt2_pe._10x-Methylated-Reduced.bed \\\n",
    "> ../Output/Pg-Methylation-Islands-500_0.02_50.tab"
   ]
  },
  {
   "cell_type": "code",
   "execution_count": 64,
   "metadata": {
    "scrolled": true
   },
   "outputs": [
    {
     "name": "stdout",
     "output_type": "stream",
     "text": [
      "Scaffold_01\t70728\t71285\t12\r\n",
      "Scaffold_01\t72061\t72653\t14\r\n",
      "Scaffold_01\t74715\t75504\t18\r\n",
      "Scaffold_01\t77141\t78219\t22\r\n",
      "Scaffold_01\t80701\t81072\t11\r\n",
      "Scaffold_01\t81352\t83745\t48\r\n",
      "Scaffold_01\t84678\t85303\t14\r\n",
      "Scaffold_01\t86275\t90755\t92\r\n",
      "Scaffold_01\t92491\t93893\t37\r\n",
      "Scaffold_01\t142681\t144251\t38\r\n"
     ]
    }
   ],
   "source": [
    "#Confirm script worked\n",
    "!head ../Output/Pg-Methylation-Islands-500_0.02_50.tab"
   ]
  },
  {
   "cell_type": "code",
   "execution_count": 67,
   "metadata": {},
   "outputs": [],
   "source": [
    "#Filter by MI length and print MI length in a new column\n",
    "!awk '{if ($3-$2 >= 500) { print $1\"\\t\"$2\"\\t\"$3\"\\t\"$4\"\\t\"$3-$2}}' ../Output/Pg-Methylation-Islands-500_0.02_50.tab \\\n",
    "> ../Output/Pg-Methylation-Islands-500_0.02_50-filtered.tab"
   ]
  },
  {
   "cell_type": "code",
   "execution_count": 69,
   "metadata": {},
   "outputs": [
    {
     "name": "stdout",
     "output_type": "stream",
     "text": [
      "Scaffold_01\t70728\t71285\t12\t557\n",
      "Scaffold_01\t72061\t72653\t14\t592\n",
      "Scaffold_01\t74715\t75504\t18\t789\n",
      "Scaffold_01\t77141\t78219\t22\t1078\n",
      "Scaffold_01\t81352\t83745\t48\t2393\n",
      "Scaffold_01\t84678\t85303\t14\t625\n",
      "Scaffold_01\t86275\t90755\t92\t4480\n",
      "Scaffold_01\t92491\t93893\t37\t1402\n",
      "Scaffold_01\t142681\t144251\t38\t1570\n",
      "Scaffold_01\t175654\t183961\t173\t8307\n",
      "    5489 ../Output/Pg-Methylation-Islands-500_0.02_50-filtered.tab\n"
     ]
    }
   ],
   "source": [
    "#Check output\n",
    "!head ../Output/Pg-Methylation-Islands-500_0.02_50-filtered.tab\n",
    "!wc -l ../Output/Pg-Methylation-Islands-500_0.02_50-filtered.tab"
   ]
  },
  {
   "cell_type": "code",
   "execution_count": 70,
   "metadata": {},
   "outputs": [
    {
     "name": "stdout",
     "output_type": "stream",
     "text": [
      "645\n",
      "11\n"
     ]
    }
   ],
   "source": [
    "#Count max mCpG in an island\n",
    "#Count min mCpG in an island\n",
    "!awk 'NR==1{max = $4 + 0; next} {if ($4 > max) max = $4;} END {print max}' \\\n",
    "../Output/Pg-Methylation-Islands-500_0.02_50-filtered.tab\n",
    "!awk 'NR==1{min = $4 + 0; next} {if ($4 < min) min = $4;} END {print min}' \\\n",
    "../Output/Pg-Methylation-Islands-500_0.02_50-filtered.tab"
   ]
  },
  {
   "cell_type": "markdown",
   "metadata": {},
   "source": [
    "### 4c. Create BEDfiles for `bedtools` and IGV"
   ]
  },
  {
   "cell_type": "code",
   "execution_count": 71,
   "metadata": {},
   "outputs": [],
   "source": [
    "#Create tab-delimited BEDfile without additional information\n",
    "!awk '{print $1\"\\t\"$2\"\\t\"$3}' ../Output/Pg-Methylation-Islands-500_0.02_50-filtered.tab \\\n",
    "> ../Output/Pg-Methylation-Islands-500_0.02_50-filtered.bed"
   ]
  },
  {
   "cell_type": "code",
   "execution_count": 72,
   "metadata": {},
   "outputs": [
    {
     "name": "stdout",
     "output_type": "stream",
     "text": [
      "Scaffold_01\t70728\t71285\r\n",
      "Scaffold_01\t72061\t72653\r\n",
      "Scaffold_01\t74715\t75504\r\n",
      "Scaffold_01\t77141\t78219\r\n",
      "Scaffold_01\t81352\t83745\r\n",
      "Scaffold_01\t84678\t85303\r\n",
      "Scaffold_01\t86275\t90755\r\n",
      "Scaffold_01\t92491\t93893\r\n",
      "Scaffold_01\t142681\t144251\r\n",
      "Scaffold_01\t175654\t183961\r\n"
     ]
    }
   ],
   "source": [
    "!head ../Output/Pg-Methylation-Islands-500_0.02_50-filtered.bed"
   ]
  },
  {
   "cell_type": "code",
   "execution_count": 116,
   "metadata": {},
   "outputs": [],
   "source": [
    "methylationIslands = \"../Output/Pg-Methylation-Islands-500_0.02_50-filtered.bed\""
   ]
  },
  {
   "cell_type": "markdown",
   "metadata": {},
   "source": [
    "### 4d. Identify genome feature overlaps with methylation islands"
   ]
  },
  {
   "cell_type": "markdown",
   "metadata": {},
   "source": [
    "#### Genes"
   ]
  },
  {
   "cell_type": "code",
   "execution_count": 117,
   "metadata": {},
   "outputs": [
    {
     "name": "stdout",
     "output_type": "stream",
     "text": [
      "    3963\n",
      "methylation island overlaps with genes\n"
     ]
    }
   ],
   "source": [
    "!{bedtoolsDirectory}intersectBed \\\n",
    "-wo \\\n",
    "-a {methylationIslands} \\\n",
    "-b ../Data/Genome/Panopea-generosa-v1.0.a4.gene.gff3 \\\n",
    "| wc -l\n",
    "! echo \"methylation island overlaps with genes\""
   ]
  },
  {
   "cell_type": "code",
   "execution_count": 106,
   "metadata": {},
   "outputs": [],
   "source": [
    "!{bedtoolsDirectory}intersectBed \\\n",
    "-wo \\\n",
    "-a {methylationIslands} \\\n",
    "-b ../Data/Genome/Panopea-generosa-v1.0.a4.gene.gff3 \\\n",
    "> ../Output/Pg-Methylation-Islands-Gene-Overlap.txt"
   ]
  },
  {
   "cell_type": "code",
   "execution_count": 107,
   "metadata": {
    "scrolled": true
   },
   "outputs": [
    {
     "name": "stdout",
     "output_type": "stream",
     "text": [
      "Scaffold_01\t70728\t71285\tScaffold_01\tGenSAS_5d9637f372b5d-publish\tgene\t70713\t81099\t.\t+\t.\tID=PGEN_.00g000060;Name=PGEN_.00g000060;original_ID=21510-PGEN_.00g234190;Alias=21510-PGEN_.00g234190;original_name=21510-PGEN_.00g234190;Notes=sp|Q61043|NIN_MOUSE [DIAMOND Functional 0.9.22],PF04443.7 [Pfam 1.6]\t557\r\n",
      "Scaffold_01\t72061\t72653\tScaffold_01\tGenSAS_5d9637f372b5d-publish\tgene\t70713\t81099\t.\t+\t.\tID=PGEN_.00g000060;Name=PGEN_.00g000060;original_ID=21510-PGEN_.00g234190;Alias=21510-PGEN_.00g234190;original_name=21510-PGEN_.00g234190;Notes=sp|Q61043|NIN_MOUSE [DIAMOND Functional 0.9.22],PF04443.7 [Pfam 1.6]\t592\r\n",
      "Scaffold_01\t74715\t75504\tScaffold_01\tGenSAS_5d9637f372b5d-publish\tgene\t70713\t81099\t.\t+\t.\tID=PGEN_.00g000060;Name=PGEN_.00g000060;original_ID=21510-PGEN_.00g234190;Alias=21510-PGEN_.00g234190;original_name=21510-PGEN_.00g234190;Notes=sp|Q61043|NIN_MOUSE [DIAMOND Functional 0.9.22],PF04443.7 [Pfam 1.6]\t789\r\n",
      "Scaffold_01\t77141\t78219\tScaffold_01\tGenSAS_5d9637f372b5d-publish\tgene\t70713\t81099\t.\t+\t.\tID=PGEN_.00g000060;Name=PGEN_.00g000060;original_ID=21510-PGEN_.00g234190;Alias=21510-PGEN_.00g234190;original_name=21510-PGEN_.00g234190;Notes=sp|Q61043|NIN_MOUSE [DIAMOND Functional 0.9.22],PF04443.7 [Pfam 1.6]\t1078\r\n",
      "Scaffold_01\t175654\t183961\tScaffold_01\tGenSAS_5d9637f372b5d-publish\tgene\t183686\t186073\t.\t+\t.\tID=PGEN_.00g000070;Name=PGEN_.00g000070;original_ID=21510-PGEN_.00g234200;Alias=21510-PGEN_.00g234200;original_name=21510-PGEN_.00g234200;Notes=PF15364.1 [Pfam 1.6]\t276\r\n",
      "Scaffold_01\t208989\t209656\tScaffold_01\tGenSAS_5d9637f372b5d-publish\tgene\t208188\t210053\t.\t-\t.\tID=PGEN_.00g000200;Name=PGEN_.00g000200;original_ID=21510-PGEN_.00g234330;Alias=21510-PGEN_.00g234330;original_name=21510-PGEN_.00g234330;Notes=IPR007889 [InterProScan 5.29-68.0],PF05225.11 [Pfam 1.6]\t667\r\n",
      "Scaffold_01\t209956\t213629\tScaffold_01\tGenSAS_5d9637f372b5d-publish\tgene\t208188\t210053\t.\t-\t.\tID=PGEN_.00g000200;Name=PGEN_.00g000200;original_ID=21510-PGEN_.00g234330;Alias=21510-PGEN_.00g234330;original_name=21510-PGEN_.00g234330;Notes=IPR007889 [InterProScan 5.29-68.0],PF05225.11 [Pfam 1.6]\t97\r\n",
      "Scaffold_01\t224070\t229951\tScaffold_01\tGenSAS_5d9637f372b5d-publish\tgene\t225369\t238796\t.\t+\t.\tID=PGEN_.00g000210;Name=PGEN_.00g000210;original_ID=21510-PGEN_.00g234340;Alias=21510-PGEN_.00g234340;original_name=21510-PGEN_.00g234340;Notes=sp|O00463|TRAF5_HUMAN [BLAST protein vs protein (blastp) 2.7.1],IPR001293 [InterProScan 5.29-68.0],PF13920.1 [Pfam 1.6]\t4583\r\n",
      "Scaffold_01\t232265\t232785\tScaffold_01\tGenSAS_5d9637f372b5d-publish\tgene\t225369\t238796\t.\t+\t.\tID=PGEN_.00g000210;Name=PGEN_.00g000210;original_ID=21510-PGEN_.00g234340;Alias=21510-PGEN_.00g234340;original_name=21510-PGEN_.00g234340;Notes=sp|O00463|TRAF5_HUMAN [BLAST protein vs protein (blastp) 2.7.1],IPR001293 [InterProScan 5.29-68.0],PF13920.1 [Pfam 1.6]\t520\r\n",
      "Scaffold_01\t233045\t239360\tScaffold_01\tGenSAS_5d9637f372b5d-publish\tgene\t225369\t238796\t.\t+\t.\tID=PGEN_.00g000210;Name=PGEN_.00g000210;original_ID=21510-PGEN_.00g234340;Alias=21510-PGEN_.00g234340;original_name=21510-PGEN_.00g234340;Notes=sp|O00463|TRAF5_HUMAN [BLAST protein vs protein (blastp) 2.7.1],IPR001293 [InterProScan 5.29-68.0],PF13920.1 [Pfam 1.6]\t5751\r\n"
     ]
    }
   ],
   "source": [
    "!head ../Output/Pg-Methylation-Islands-Gene-Overlap.txt"
   ]
  },
  {
   "cell_type": "markdown",
   "metadata": {},
   "source": [
    "#### Intergenic"
   ]
  },
  {
   "cell_type": "code",
   "execution_count": 118,
   "metadata": {},
   "outputs": [
    {
     "name": "stdout",
     "output_type": "stream",
     "text": [
      "    1568\n",
      "methylation island overlaps with intergenic regions\n"
     ]
    }
   ],
   "source": [
    "!{bedtoolsDirectory}intersectBed \\\n",
    "-v \\\n",
    "-a {methylationIslands} \\\n",
    "-b ../Data/Genome/Panopea-generosa-v1.0.a4.gene.gff3 \\\n",
    "| wc -l\n",
    "!echo \"methylation island overlaps with intergenic regions\""
   ]
  },
  {
   "cell_type": "code",
   "execution_count": 119,
   "metadata": {},
   "outputs": [],
   "source": [
    "!{bedtoolsDirectory}intersectBed \\\n",
    "-v \\\n",
    "-a {methylationIslands} \\\n",
    "-b ../Data/Genome/Panopea-generosa-v1.0.a4.gene.gff3 \\\n",
    "> ../Output/Pg-Methylation-Islands-Intergenic-Overlap.txt"
   ]
  },
  {
   "cell_type": "code",
   "execution_count": 114,
   "metadata": {
    "scrolled": true
   },
   "outputs": [
    {
     "name": "stdout",
     "output_type": "stream",
     "text": [
      "Scaffold_01\t81352\t83745\r\n",
      "Scaffold_01\t84678\t85303\r\n",
      "Scaffold_01\t86275\t90755\r\n",
      "Scaffold_01\t92491\t93893\r\n",
      "Scaffold_01\t142681\t144251\r\n",
      "Scaffold_01\t214446\t215376\r\n",
      "Scaffold_01\t215831\t221463\r\n",
      "Scaffold_01\t223419\t223943\r\n",
      "Scaffold_01\t241343\t242796\r\n",
      "Scaffold_01\t288347\t289009\r\n"
     ]
    }
   ],
   "source": [
    "!head ../Output/Pg-Methylation-Islands-Intergenic-Overlap.txt"
   ]
  },
  {
   "cell_type": "code",
   "execution_count": null,
   "metadata": {},
   "outputs": [],
   "source": []
  }
 ],
 "metadata": {
  "kernelspec": {
   "display_name": "Python 3",
   "language": "python",
   "name": "python3"
  },
  "language_info": {
   "codemirror_mode": {
    "name": "ipython",
    "version": 3
   },
   "file_extension": ".py",
   "mimetype": "text/x-python",
   "name": "python",
   "nbconvert_exporter": "python",
   "pygments_lexer": "ipython3",
   "version": "3.7.4"
  }
 },
 "nbformat": 4,
 "nbformat_minor": 2
}
