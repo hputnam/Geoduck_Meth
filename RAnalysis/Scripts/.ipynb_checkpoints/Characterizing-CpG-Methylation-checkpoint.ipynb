{
 "cells": [
  {
   "cell_type": "markdown",
   "metadata": {},
   "source": [
    "# Characterizing CpG Methylation\n",
    "\n",
    "I'll describe general methylation trends in the geoduck genome using a concatenation of 10x data from all samples. I'll also generate methylation islands for the geoduck genome based on a perl script from Jeong et al. (2018).\n",
    "\n",
    "1. Obtain concatenated coverage file\n",
    "2. Characterize methylation levels for each CpG dinucleotide\n",
    "3. Determine genomic locations for CpGs\n",
    "4. Generate methylation islands"
   ]
  },
  {
   "cell_type": "markdown",
   "metadata": {},
   "source": [
    "## 1. Obtain concatenated coverage file"
   ]
  },
  {
   "cell_type": "code",
   "execution_count": 20,
   "metadata": {
    "scrolled": true
   },
   "outputs": [
    {
     "name": "stdout",
     "output_type": "stream",
     "text": [
      "--2020-03-09 10:31:27--  https://gannet.fish.washington.edu/seashell/bu-mox/scrubbed/0102/Pg_val_1_bismark_bt2_pe._10x.bedgraph\n",
      "Resolving gannet.fish.washington.edu... 128.95.149.52\n",
      "Connecting to gannet.fish.washington.edu|128.95.149.52|:443... connected.\n",
      "HTTP request sent, awaiting response... 200 OK\n",
      "Length: 39782030 (38M)\n",
      "Saving to: ‘Pg_val_1_bismark_bt2_pe._10x.bedgraph’\n",
      "\n",
      "Pg_val_1_bismark_bt 100%[===================>]  37.94M  13.2MB/s    in 2.9s    \n",
      "\n",
      "2020-03-09 10:31:30 (13.2 MB/s) - ‘Pg_val_1_bismark_bt2_pe._10x.bedgraph’ saved [39782030/39782030]\n",
      "\n",
      "--2020-03-09 10:31:30--  http://../Data/\n",
      "Resolving ..... failed: nodename nor servname provided, or not known.\n",
      "wget: unable to resolve host address ‘..’\n",
      "FINISHED --2020-03-09 10:31:30--\n",
      "Total wall clock time: 3.0s\n",
      "Downloaded: 1 files, 38M in 2.9s (13.2 MB/s)\n"
     ]
    }
   ],
   "source": [
    "#Download from gannet\n",
    "!wget https://gannet.fish.washington.edu/seashell/bu-mox/scrubbed/0102/Pg_val_1_bismark_bt2_pe._10x.bedgraph"
   ]
  },
  {
   "cell_type": "code",
   "execution_count": 21,
   "metadata": {},
   "outputs": [],
   "source": [
    "#Move to Data folder\n",
    "!mv *bedgraph ../Data/"
   ]
  },
  {
   "cell_type": "code",
   "execution_count": 23,
   "metadata": {},
   "outputs": [
    {
     "name": "stdout",
     "output_type": "stream",
     "text": [
      "../Data/Pg_val_1_bismark_bt2_pe._10x.bedgraph\r\n"
     ]
    }
   ],
   "source": [
    "#Confirm file was moved\n",
    "!ls ../Data/*bedgraph"
   ]
  },
  {
   "cell_type": "code",
   "execution_count": 26,
   "metadata": {},
   "outputs": [
    {
     "name": "stdout",
     "output_type": "stream",
     "text": [
      "Scaffold_01\t53\t55\t3.125000\r\n",
      "Scaffold_01\t71\t73\t2.777778\r\n",
      "Scaffold_01\t95\t97\t2.040816\r\n",
      "Scaffold_01\t118\t120\t0.000000\r\n",
      "Scaffold_01\t192\t194\t0.000000\r\n",
      "Scaffold_01\t201\t203\t0.000000\r\n",
      "Scaffold_01\t208\t210\t0.000000\r\n",
      "Scaffold_01\t212\t214\t0.000000\r\n",
      "Scaffold_01\t220\t222\t0.000000\r\n",
      "Scaffold_01\t237\t239\t1.315789\r\n"
     ]
    }
   ],
   "source": [
    "#Columns: chr, start, end, %meth\n",
    "!head ../Data/Pg_val_1_bismark_bt2_pe._10x.bedgraph"
   ]
  },
  {
   "cell_type": "code",
   "execution_count": 24,
   "metadata": {},
   "outputs": [
    {
     "name": "stdout",
     "output_type": "stream",
     "text": [
      " 1016980 ../Data/Pg_val_1_bismark_bt2_pe._10x.bedgraph\n",
      "CpG loci with 10x coverage\n"
     ]
    }
   ],
   "source": [
    "!wc -l ../Data/Pg_val_1_bismark_bt2_pe._10x.bedgraph\n",
    "!echo \"CpG loci with 10x coverage\""
   ]
  },
  {
   "cell_type": "markdown",
   "metadata": {},
   "source": [
    "## 2. Characterize methylation level for each CpG dinucleotide\n",
    "\n",
    "- methylated: > 50% methylated\n",
    "- sparsely methylated: 10-50% methylated\n",
    "- unmethylated: < 10% methylated"
   ]
  },
  {
   "cell_type": "markdown",
   "metadata": {},
   "source": [
    "### 2a. Methylated CpGs"
   ]
  },
  {
   "cell_type": "code",
   "execution_count": 27,
   "metadata": {},
   "outputs": [],
   "source": [
    "#If percent methylation is greater or equal to 50, then save the loci information\n",
    "!awk '{if ($4 >= 50) { print $1, $2, $3, $4 }}' ../Data/Pg_val_1_bismark_bt2_pe._10x.bedgraph \\\n",
    "> ../Data/Pg_val_1_bismark_bt2_pe._10x-Methylated.bedgraph"
   ]
  },
  {
   "cell_type": "code",
   "execution_count": 28,
   "metadata": {},
   "outputs": [
    {
     "name": "stdout",
     "output_type": "stream",
     "text": [
      "Scaffold_01 11797 11799 50.000000\r\n",
      "Scaffold_01 11838 11840 50.000000\r\n",
      "Scaffold_01 11843 11845 50.000000\r\n",
      "Scaffold_01 11846 11848 50.000000\r\n",
      "Scaffold_01 11851 11853 55.555556\r\n",
      "Scaffold_01 12029 12031 56.250000\r\n",
      "Scaffold_01 51414 51416 56.834532\r\n",
      "Scaffold_01 51426 51428 58.333333\r\n",
      "Scaffold_01 51470 51472 55.072464\r\n",
      "Scaffold_01 51563 51565 77.083333\r\n"
     ]
    }
   ],
   "source": [
    "!head ../Data/Pg_val_1_bismark_bt2_pe._10x-Methylated.bedgraph"
   ]
  },
  {
   "cell_type": "code",
   "execution_count": 29,
   "metadata": {
    "scrolled": false
   },
   "outputs": [
    {
     "name": "stdout",
     "output_type": "stream",
     "text": [
      "  310808 ../Data/Pg_val_1_bismark_bt2_pe._10x-Methylated.bedgraph\n",
      "methylated CpGs\n"
     ]
    }
   ],
   "source": [
    "!wc -l ../Data/Pg_val_1_bismark_bt2_pe._10x-Methylated.bedgraph\n",
    "!echo \"methylated CpGs\""
   ]
  },
  {
   "cell_type": "markdown",
   "metadata": {},
   "source": [
    "### 2b. Sparsely methylated CpGs"
   ]
  },
  {
   "cell_type": "code",
   "execution_count": 30,
   "metadata": {},
   "outputs": [],
   "source": [
    "%%bash\n",
    "awk '{if ($4 < 50) { print $1, $2, $3, $4}}' ../Data/Pg_val_1_bismark_bt2_pe._10x.bedgraph \\\n",
    "| awk '{if ($4 > 10) { print $1, $2, $3, $4 }}' \\\n",
    "> ../Data/Pg_val_1_bismark_bt2_pe._10x-Sparsely-Methylated.bedgraph"
   ]
  },
  {
   "cell_type": "code",
   "execution_count": 31,
   "metadata": {},
   "outputs": [
    {
     "name": "stdout",
     "output_type": "stream",
     "text": [
      "Scaffold_01 617 619 15.384615\r\n",
      "Scaffold_01 2962 2964 12.658228\r\n",
      "Scaffold_01 7518 7520 12.000000\r\n",
      "Scaffold_01 8343 8345 17.073171\r\n",
      "Scaffold_01 8347 8349 15.384615\r\n",
      "Scaffold_01 8352 8354 22.448980\r\n",
      "Scaffold_01 8358 8360 31.506849\r\n",
      "Scaffold_01 8366 8368 34.426230\r\n",
      "Scaffold_01 8381 8383 26.363636\r\n",
      "Scaffold_01 8385 8387 23.931624\r\n"
     ]
    }
   ],
   "source": [
    "!head ../Data/Pg_val_1_bismark_bt2_pe._10x-Sparsely-Methylated.bedgraph"
   ]
  },
  {
   "cell_type": "code",
   "execution_count": 33,
   "metadata": {},
   "outputs": [
    {
     "name": "stdout",
     "output_type": "stream",
     "text": [
      "   92368 ../Data/Pg_val_1_bismark_bt2_pe._10x-Sparsely-Methylated.bedgraph\n",
      "sparsely methylated CpGs\n"
     ]
    }
   ],
   "source": [
    "!wc -l ../Data/Pg_val_1_bismark_bt2_pe._10x-Sparsely-Methylated.bedgraph\n",
    "!echo \"sparsely methylated CpGs\""
   ]
  },
  {
   "cell_type": "markdown",
   "metadata": {},
   "source": [
    "### 2c. Unmethylated CpGs"
   ]
  },
  {
   "cell_type": "code",
   "execution_count": 34,
   "metadata": {},
   "outputs": [],
   "source": [
    "!awk '{if ($4 <= 10) { print $1, $2, $3, $4 }}' ../Data/Pg_val_1_bismark_bt2_pe._10x.bedgraph \\\n",
    "> ../Data/Pg_val_1_bismark_bt2_pe._10x-Unmethylated.bedgraph"
   ]
  },
  {
   "cell_type": "code",
   "execution_count": 35,
   "metadata": {},
   "outputs": [
    {
     "name": "stdout",
     "output_type": "stream",
     "text": [
      "Scaffold_01 53 55 3.125000\r\n",
      "Scaffold_01 71 73 2.777778\r\n",
      "Scaffold_01 95 97 2.040816\r\n",
      "Scaffold_01 118 120 0.000000\r\n",
      "Scaffold_01 192 194 0.000000\r\n",
      "Scaffold_01 201 203 0.000000\r\n",
      "Scaffold_01 208 210 0.000000\r\n",
      "Scaffold_01 212 214 0.000000\r\n",
      "Scaffold_01 220 222 0.000000\r\n",
      "Scaffold_01 237 239 1.315789\r\n"
     ]
    }
   ],
   "source": [
    "!head ../Data/Pg_val_1_bismark_bt2_pe._10x-Unmethylated.bedgraph"
   ]
  },
  {
   "cell_type": "code",
   "execution_count": 37,
   "metadata": {
    "scrolled": false
   },
   "outputs": [
    {
     "name": "stdout",
     "output_type": "stream",
     "text": [
      "  613804 ../Data/Pg_val_1_bismark_bt2_pe._10x-Unmethylated.bedgraph\n",
      "unmethylated CpGs\n"
     ]
    }
   ],
   "source": [
    "!wc -l ../Data/Pg_val_1_bismark_bt2_pe._10x-Unmethylated.bedgraph\n",
    "!echo \"unmethylated CpGs\""
   ]
  },
  {
   "cell_type": "markdown",
   "metadata": {},
   "source": [
    "## 3. Determine genomic locations for CpGs"
   ]
  },
  {
   "cell_type": "markdown",
   "metadata": {},
   "source": [
    "### 3a. Create BEDfiles for `bedtools` and IGV"
   ]
  },
  {
   "cell_type": "code",
   "execution_count": 38,
   "metadata": {},
   "outputs": [
    {
     "name": "stdout",
     "output_type": "stream",
     "text": [
      "../Data/Pg_val_1_bismark_bt2_pe._10x-Methylated.bedgraph\r\n",
      "../Data/Pg_val_1_bismark_bt2_pe._10x-Sparsely-Methylated.bedgraph\r\n",
      "../Data/Pg_val_1_bismark_bt2_pe._10x-Unmethylated.bedgraph\r\n",
      "../Data/Pg_val_1_bismark_bt2_pe._10x.bedgraph\r\n"
     ]
    }
   ],
   "source": [
    "!find ../Data/*bedgraph"
   ]
  },
  {
   "cell_type": "code",
   "execution_count": 39,
   "metadata": {},
   "outputs": [],
   "source": [
    "%%bash\n",
    "\n",
    "for f in ../Data/*bedgraph\n",
    "do\n",
    "    awk '{print $1\"\\t\"$2\"\\t\"$3}' ${f} > ${f}.bed\n",
    "done"
   ]
  },
  {
   "cell_type": "code",
   "execution_count": 42,
   "metadata": {},
   "outputs": [
    {
     "name": "stdout",
     "output_type": "stream",
     "text": [
      "../Data/Pg_val_1_bismark_bt2_pe._10x-Methylated.bedgraph.bed\r\n",
      "../Data/Pg_val_1_bismark_bt2_pe._10x-Sparsely-Methylated.bedgraph.bed\r\n",
      "../Data/Pg_val_1_bismark_bt2_pe._10x-Unmethylated.bedgraph.bed\r\n",
      "../Data/Pg_val_1_bismark_bt2_pe._10x.bedgraph.bed\r\n"
     ]
    }
   ],
   "source": [
    "!ls ../Data/*bed"
   ]
  },
  {
   "cell_type": "markdown",
   "metadata": {},
   "source": [
    "### 3b. Obtain genome feature tracks"
   ]
  },
  {
   "cell_type": "code",
   "execution_count": 43,
   "metadata": {},
   "outputs": [
    {
     "name": "stdout",
     "output_type": "stream",
     "text": [
      "/bin/sh: ../Data/Genome/: Is a directory\r\n"
     ]
    }
   ],
   "source": [
    "!wget https://osf.io/bcxk7/ > ../Data/Ge"
   ]
  },
  {
   "cell_type": "code",
   "execution_count": null,
   "metadata": {},
   "outputs": [],
   "source": []
  },
  {
   "cell_type": "markdown",
   "metadata": {},
   "source": [
    "## 4. Generate methylation islands"
   ]
  },
  {
   "cell_type": "code",
   "execution_count": null,
   "metadata": {},
   "outputs": [],
   "source": []
  }
 ],
 "metadata": {
  "kernelspec": {
   "display_name": "Python 3",
   "language": "python",
   "name": "python3"
  },
  "language_info": {
   "codemirror_mode": {
    "name": "ipython",
    "version": 3
   },
   "file_extension": ".py",
   "mimetype": "text/x-python",
   "name": "python",
   "nbconvert_exporter": "python",
   "pygments_lexer": "ipython3",
   "version": "3.7.4"
  }
 },
 "nbformat": 4,
 "nbformat_minor": 2
}
